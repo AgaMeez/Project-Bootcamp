{
 "cells": [
  {
   "cell_type": "markdown",
   "metadata": {},
   "source": [
    "* [CONTEXT](#1-bullet)\n",
    "* [EXPLORATORY DATA ANALYSIS](#2-bullet)\n",
    "    * [Variables' Names Overview and Their Description](#3-bullet)\n",
    "    * [First takeaway from the data](#4-bullet)\n",
    "    * [Getting more insights into numerical variables](#5-bullet)\n",
    "    * [First takeaways from numerical data](#6-bullet)\n",
    "    * [Distribution of labels](#7-bullet)\n",
    "    * [Distribution of continouos variables](#8-bullet)\n",
    "    * [Distribution of other numerical variables](#9-bullet)\n",
    "    * [Getting more insights into categorical variables](#10-bullet)\n",
    "    * [Distribution of categorical variables](#11-bullet)\n",
    "    * [Takeaways from categorical data](#12-bullet)\n",
    "    * [How the customers' demographic reatures do contribute to a purchase conversion?](#13-bullet)\n",
    "    * [Takeaways from customer demographic features contributing to the purchase conversion](#14-bullet)\n",
    "    * [Let's have a look into coralation between all variables](#15-bullet)\n",
    "    * [Missing values within all variables for future fixing](#16-bullet)\n",
    "* [PREPROCESSING AND SPLITTING THE DATA](#17-bullet)\n",
    "    * [Spliting the data](#18-bullet)\n",
    "    * [Preprocessing data in pipeline](#19-bullet)\n",
    "    * [Combining all transformers together](#20-bullet)\n",
    "* [TRAINING THE ALGORITHMS](#21-bullet)\n",
    "    * [First approach](#22-bullet)\n",
    "    * [Second approach](#23-bullet)\n",
    "    * [Third approach](#24-bullet)\n",
    "    * [Fourth approach](#25-bullet)\n",
    "* [CONCLUSION](#26-bullet)\n",
    "    * [Recommendations related to the target group](#27-bullet)\n",
    "    * [Comparision of best algorithms and their metrics](#28-bullet)\n",
    "    * [Takeaways from the models](#29-bullet)"
   ]
  },
  {
   "cell_type": "markdown",
   "metadata": {
    "slideshow": {
     "slide_type": "slide"
    }
   },
   "source": [
    "# CONTEXT<a class=\"anchor\" id=\"1-bullet\"></a>\n",
    "This project is based on the Kaggle data coming from a travel company called ‘Let’s Travel’  selling travel packages. The company is looking to expand their business by introducing a new travel package. There is a huge marketing campaign planned for the launch of the new product however their aim is also to optimize their marketing spends by approaching customers with higher probability to purchase the new package. So far their marketing spends were quite high because their reach out to customers via different communication channels (including paid marketing channels) was conducted on random target groups.  They are now looking for a data analyst to analyze their existing customer data to provide the recommendation and to predict the potential customers who are going to purchase their products. From the customer data collected through the past purchases, the company can classify its accessible audience consisting of potential purchasers into two categories: those who made the purchase vs. the rest.The aim of this project is therefore to build a machine learning model that predicts customers who are going to buy their product to approach them with the new campaign. "
   ]
  },
  {
   "cell_type": "markdown",
   "metadata": {},
   "source": [
    "### Importing Libraries"
   ]
  },
  {
   "cell_type": "code",
   "execution_count": 1,
   "metadata": {},
   "outputs": [],
   "source": [
    "import pandas as pd\n",
    "import numpy as np\n",
    "from scipy.stats import kurtosis\n",
    "from scipy.stats import skew\n",
    "import matplotlib.pyplot as plt\n",
    "import seaborn as sns\n",
    "import warnings\n",
    "from sklearn.model_selection import train_test_split\n",
    "from sklearn.base import BaseEstimator, TransformerMixin\n",
    "from sklearn.pipeline import Pipeline\n",
    "from sklearn.impute import SimpleImputer\n",
    "from sklearn.preprocessing import OneHotEncoder\n",
    "from sklearn.preprocessing import OrdinalEncoder\n",
    "from sklearn.pipeline import FeatureUnion\n",
    "from sklearn.model_selection import StratifiedKFold\n",
    "from sklearn.model_selection import GridSearchCV\n",
    "from sklearn.preprocessing import StandardScaler\n",
    "from sklearn.preprocessing import MinMaxScaler\n",
    "from sklearn import  metrics\n",
    "from sklearn.svm import SVC\n",
    "from sklearn.svm import LinearSVC\n",
    "from sklearn.naive_bayes import MultinomialNB\n",
    "from sklearn.linear_model import LogisticRegression\n",
    "from sklearn.tree import DecisionTreeClassifier\n",
    "from sklearn.ensemble import RandomForestClassifier\n",
    "from sklearn.ensemble import ExtraTreesClassifier\n",
    "import imblearn\n",
    "from imblearn.over_sampling import SMOTE\n",
    "from imblearn.pipeline import Pipeline"
   ]
  },
  {
   "cell_type": "markdown",
   "metadata": {},
   "source": [
    "# EXPLORATORY DATA ANALYSIS<a class=\"anchor\" id=\"2-bullet\"></a>"
   ]
  },
  {
   "cell_type": "code",
   "execution_count": 2,
   "metadata": {},
   "outputs": [],
   "source": [
    "data = pd.read_csv('Data/tour_package.csv')"
   ]
  },
  {
   "cell_type": "markdown",
   "metadata": {},
   "source": [
    "### Variables' Names Overview and Their Description <a class=\"anchor\" id=\"3-bullet\"></a>"
   ]
  },
  {
   "cell_type": "markdown",
   "metadata": {},
   "source": [
    "| Variable  | Description |\n",
    "| :------------- | :------------- |\n",
    "| **CUSTOMER DETAILS**\n",
    "| CustomerID  | Unique customer ID  |\n",
    "| ProdTaken  | Whether a customer has purchased a package or not (0: No, 1: Yes)  |\n",
    "| Age  | Age of the customer  |\n",
    "| CityTier  | Insights on the development of a city, population, facilities, and living standards. The categories are ordered i.e. Tier 1 > Tier 2 > Tier 3  |\n",
    "| Occupation  | Occupation of the customer  |\n",
    "| Gender  | Gender of the customer  |\n",
    "| NumberOfPersonVisiting  | Total number of all trip members going on one trip together  |\n",
    "| MaritalStatus  | Marital status of the customer  |\n",
    "| NumberOfTrips  | Average number of trips in a year by the customer  |\n",
    "| Passport  | The customer has a passport or not (0: No, 1: Yes)  |\n",
    "| OwnCar  | The customer owns a car or not (0: No, 1: Yes)  |\n",
    "| NumberOfChildrenVisiting  | Total number of children with age less than 5 planning to take the trip with the customer  |\n",
    "| Designation  | Designation of the customer in the current organization  |\n",
    "| MonthlyIncome  | Gross monthly income of the customer  |\n",
    "| **CUSTOMER INTERACTION DATA**\n",
    "| TypeofContact  | How the customer was contacted (company invited or self inquiry)  |\n",
    "| PreferredPropertyStar  | Preferred hotel property rating by the customer  |\n",
    "| PitchSatisfactionScore  | Sales pitch satisfaction score |\n",
    "| ProductPitched  | If a product pitched by a sales team |\n",
    "| NumberOfFollowups  | The total number of follow-ups |\n",
    "| DurationOfPitch  | Duration of a pitch |"
   ]
  },
  {
   "cell_type": "code",
   "execution_count": 3,
   "metadata": {},
   "outputs": [
    {
     "data": {
      "text/html": [
       "<div>\n",
       "<style scoped>\n",
       "    .dataframe tbody tr th:only-of-type {\n",
       "        vertical-align: middle;\n",
       "    }\n",
       "\n",
       "    .dataframe tbody tr th {\n",
       "        vertical-align: top;\n",
       "    }\n",
       "\n",
       "    .dataframe thead th {\n",
       "        text-align: right;\n",
       "    }\n",
       "</style>\n",
       "<table border=\"1\" class=\"dataframe\">\n",
       "  <thead>\n",
       "    <tr style=\"text-align: right;\">\n",
       "      <th></th>\n",
       "      <th>CustomerID</th>\n",
       "      <th>ProdTaken</th>\n",
       "      <th>Age</th>\n",
       "      <th>TypeofContact</th>\n",
       "      <th>CityTier</th>\n",
       "      <th>DurationOfPitch</th>\n",
       "      <th>Occupation</th>\n",
       "      <th>Gender</th>\n",
       "      <th>NumberOfPersonVisiting</th>\n",
       "      <th>NumberOfFollowups</th>\n",
       "      <th>ProductPitched</th>\n",
       "      <th>PreferredPropertyStar</th>\n",
       "      <th>MaritalStatus</th>\n",
       "      <th>NumberOfTrips</th>\n",
       "      <th>Passport</th>\n",
       "      <th>PitchSatisfactionScore</th>\n",
       "      <th>OwnCar</th>\n",
       "      <th>NumberOfChildrenVisiting</th>\n",
       "      <th>Designation</th>\n",
       "      <th>MonthlyIncome</th>\n",
       "    </tr>\n",
       "  </thead>\n",
       "  <tbody>\n",
       "    <tr>\n",
       "      <th>0</th>\n",
       "      <td>200000</td>\n",
       "      <td>1</td>\n",
       "      <td>41.0</td>\n",
       "      <td>Self Enquiry</td>\n",
       "      <td>3</td>\n",
       "      <td>6.0</td>\n",
       "      <td>Salaried</td>\n",
       "      <td>Female</td>\n",
       "      <td>3</td>\n",
       "      <td>3.0</td>\n",
       "      <td>Deluxe</td>\n",
       "      <td>3.0</td>\n",
       "      <td>Single</td>\n",
       "      <td>1.0</td>\n",
       "      <td>1</td>\n",
       "      <td>2</td>\n",
       "      <td>1</td>\n",
       "      <td>0.0</td>\n",
       "      <td>Manager</td>\n",
       "      <td>20993.0</td>\n",
       "    </tr>\n",
       "    <tr>\n",
       "      <th>1</th>\n",
       "      <td>200001</td>\n",
       "      <td>0</td>\n",
       "      <td>49.0</td>\n",
       "      <td>Company Invited</td>\n",
       "      <td>1</td>\n",
       "      <td>14.0</td>\n",
       "      <td>Salaried</td>\n",
       "      <td>Male</td>\n",
       "      <td>3</td>\n",
       "      <td>4.0</td>\n",
       "      <td>Deluxe</td>\n",
       "      <td>4.0</td>\n",
       "      <td>Divorced</td>\n",
       "      <td>2.0</td>\n",
       "      <td>0</td>\n",
       "      <td>3</td>\n",
       "      <td>1</td>\n",
       "      <td>2.0</td>\n",
       "      <td>Manager</td>\n",
       "      <td>20130.0</td>\n",
       "    </tr>\n",
       "    <tr>\n",
       "      <th>2</th>\n",
       "      <td>200002</td>\n",
       "      <td>1</td>\n",
       "      <td>37.0</td>\n",
       "      <td>Self Enquiry</td>\n",
       "      <td>1</td>\n",
       "      <td>8.0</td>\n",
       "      <td>Free Lancer</td>\n",
       "      <td>Male</td>\n",
       "      <td>3</td>\n",
       "      <td>4.0</td>\n",
       "      <td>Basic</td>\n",
       "      <td>3.0</td>\n",
       "      <td>Single</td>\n",
       "      <td>7.0</td>\n",
       "      <td>1</td>\n",
       "      <td>3</td>\n",
       "      <td>0</td>\n",
       "      <td>0.0</td>\n",
       "      <td>Executive</td>\n",
       "      <td>17090.0</td>\n",
       "    </tr>\n",
       "    <tr>\n",
       "      <th>3</th>\n",
       "      <td>200003</td>\n",
       "      <td>0</td>\n",
       "      <td>33.0</td>\n",
       "      <td>Company Invited</td>\n",
       "      <td>1</td>\n",
       "      <td>9.0</td>\n",
       "      <td>Salaried</td>\n",
       "      <td>Female</td>\n",
       "      <td>2</td>\n",
       "      <td>3.0</td>\n",
       "      <td>Basic</td>\n",
       "      <td>3.0</td>\n",
       "      <td>Divorced</td>\n",
       "      <td>2.0</td>\n",
       "      <td>1</td>\n",
       "      <td>5</td>\n",
       "      <td>1</td>\n",
       "      <td>1.0</td>\n",
       "      <td>Executive</td>\n",
       "      <td>17909.0</td>\n",
       "    </tr>\n",
       "    <tr>\n",
       "      <th>4</th>\n",
       "      <td>200004</td>\n",
       "      <td>0</td>\n",
       "      <td>NaN</td>\n",
       "      <td>Self Enquiry</td>\n",
       "      <td>1</td>\n",
       "      <td>8.0</td>\n",
       "      <td>Small Business</td>\n",
       "      <td>Male</td>\n",
       "      <td>2</td>\n",
       "      <td>3.0</td>\n",
       "      <td>Basic</td>\n",
       "      <td>4.0</td>\n",
       "      <td>Divorced</td>\n",
       "      <td>1.0</td>\n",
       "      <td>0</td>\n",
       "      <td>5</td>\n",
       "      <td>1</td>\n",
       "      <td>0.0</td>\n",
       "      <td>Executive</td>\n",
       "      <td>18468.0</td>\n",
       "    </tr>\n",
       "  </tbody>\n",
       "</table>\n",
       "</div>"
      ],
      "text/plain": [
       "   CustomerID  ProdTaken   Age    TypeofContact  CityTier  DurationOfPitch  \\\n",
       "0      200000          1  41.0     Self Enquiry         3              6.0   \n",
       "1      200001          0  49.0  Company Invited         1             14.0   \n",
       "2      200002          1  37.0     Self Enquiry         1              8.0   \n",
       "3      200003          0  33.0  Company Invited         1              9.0   \n",
       "4      200004          0   NaN     Self Enquiry         1              8.0   \n",
       "\n",
       "       Occupation  Gender  NumberOfPersonVisiting  NumberOfFollowups  \\\n",
       "0        Salaried  Female                       3                3.0   \n",
       "1        Salaried    Male                       3                4.0   \n",
       "2     Free Lancer    Male                       3                4.0   \n",
       "3        Salaried  Female                       2                3.0   \n",
       "4  Small Business    Male                       2                3.0   \n",
       "\n",
       "  ProductPitched  PreferredPropertyStar MaritalStatus  NumberOfTrips  \\\n",
       "0         Deluxe                    3.0        Single            1.0   \n",
       "1         Deluxe                    4.0      Divorced            2.0   \n",
       "2          Basic                    3.0        Single            7.0   \n",
       "3          Basic                    3.0      Divorced            2.0   \n",
       "4          Basic                    4.0      Divorced            1.0   \n",
       "\n",
       "   Passport  PitchSatisfactionScore  OwnCar  NumberOfChildrenVisiting  \\\n",
       "0         1                       2       1                       0.0   \n",
       "1         0                       3       1                       2.0   \n",
       "2         1                       3       0                       0.0   \n",
       "3         1                       5       1                       1.0   \n",
       "4         0                       5       1                       0.0   \n",
       "\n",
       "  Designation  MonthlyIncome  \n",
       "0     Manager        20993.0  \n",
       "1     Manager        20130.0  \n",
       "2   Executive        17090.0  \n",
       "3   Executive        17909.0  \n",
       "4   Executive        18468.0  "
      ]
     },
     "execution_count": 3,
     "metadata": {},
     "output_type": "execute_result"
    }
   ],
   "source": [
    "data.head()"
   ]
  },
  {
   "cell_type": "code",
   "execution_count": 4,
   "metadata": {},
   "outputs": [
    {
     "name": "stdout",
     "output_type": "stream",
     "text": [
      "<class 'pandas.core.frame.DataFrame'>\n",
      "RangeIndex: 4888 entries, 0 to 4887\n",
      "Data columns (total 20 columns):\n",
      " #   Column                    Non-Null Count  Dtype  \n",
      "---  ------                    --------------  -----  \n",
      " 0   CustomerID                4888 non-null   int64  \n",
      " 1   ProdTaken                 4888 non-null   int64  \n",
      " 2   Age                       4662 non-null   float64\n",
      " 3   TypeofContact             4863 non-null   object \n",
      " 4   CityTier                  4888 non-null   int64  \n",
      " 5   DurationOfPitch           4637 non-null   float64\n",
      " 6   Occupation                4888 non-null   object \n",
      " 7   Gender                    4888 non-null   object \n",
      " 8   NumberOfPersonVisiting    4888 non-null   int64  \n",
      " 9   NumberOfFollowups         4843 non-null   float64\n",
      " 10  ProductPitched            4888 non-null   object \n",
      " 11  PreferredPropertyStar     4862 non-null   float64\n",
      " 12  MaritalStatus             4888 non-null   object \n",
      " 13  NumberOfTrips             4748 non-null   float64\n",
      " 14  Passport                  4888 non-null   int64  \n",
      " 15  PitchSatisfactionScore    4888 non-null   int64  \n",
      " 16  OwnCar                    4888 non-null   int64  \n",
      " 17  NumberOfChildrenVisiting  4822 non-null   float64\n",
      " 18  Designation               4888 non-null   object \n",
      " 19  MonthlyIncome             4655 non-null   float64\n",
      "dtypes: float64(7), int64(7), object(6)\n",
      "memory usage: 763.9+ KB\n"
     ]
    }
   ],
   "source": [
    "data.info()"
   ]
  },
  {
   "cell_type": "code",
   "execution_count": 5,
   "metadata": {},
   "outputs": [
    {
     "data": {
      "text/plain": [
       "CustomerID                  4888\n",
       "ProdTaken                      2\n",
       "Age                           44\n",
       "TypeofContact                  2\n",
       "CityTier                       3\n",
       "DurationOfPitch               34\n",
       "Occupation                     4\n",
       "Gender                         3\n",
       "NumberOfPersonVisiting         5\n",
       "NumberOfFollowups              6\n",
       "ProductPitched                 5\n",
       "PreferredPropertyStar          3\n",
       "MaritalStatus                  4\n",
       "NumberOfTrips                 12\n",
       "Passport                       2\n",
       "PitchSatisfactionScore         5\n",
       "OwnCar                         2\n",
       "NumberOfChildrenVisiting       4\n",
       "Designation                    5\n",
       "MonthlyIncome               2475\n",
       "dtype: int64"
      ]
     },
     "execution_count": 5,
     "metadata": {},
     "output_type": "execute_result"
    }
   ],
   "source": [
    "data.nunique()"
   ]
  },
  {
   "cell_type": "code",
   "execution_count": 6,
   "metadata": {},
   "outputs": [
    {
     "data": {
      "text/plain": [
       "(4888, 20)"
      ]
     },
     "execution_count": 6,
     "metadata": {},
     "output_type": "execute_result"
    }
   ],
   "source": [
    "data.shape"
   ]
  },
  {
   "cell_type": "markdown",
   "metadata": {},
   "source": [
    "### First takeaway from the data <a class=\"anchor\" id=\"4-bullet\"></a>\n",
    "There are 4888 observations and 20 variables (both numerical and categorical). One of the variables is the 'CustomerID' which doesn't have any impact on the purchase decisions therefore I will remove it from the data set now. "
   ]
  },
  {
   "cell_type": "code",
   "execution_count": 7,
   "metadata": {},
   "outputs": [],
   "source": [
    "data.drop(['CustomerID'], axis=1, inplace=True)"
   ]
  },
  {
   "cell_type": "code",
   "execution_count": 8,
   "metadata": {},
   "outputs": [
    {
     "data": {
      "text/plain": [
       "Index(['ProdTaken', 'Age', 'TypeofContact', 'CityTier', 'DurationOfPitch',\n",
       "       'Occupation', 'Gender', 'NumberOfPersonVisiting', 'NumberOfFollowups',\n",
       "       'ProductPitched', 'PreferredPropertyStar', 'MaritalStatus',\n",
       "       'NumberOfTrips', 'Passport', 'PitchSatisfactionScore', 'OwnCar',\n",
       "       'NumberOfChildrenVisiting', 'Designation', 'MonthlyIncome'],\n",
       "      dtype='object')"
      ]
     },
     "execution_count": 8,
     "metadata": {},
     "output_type": "execute_result"
    }
   ],
   "source": [
    "data.columns"
   ]
  },
  {
   "cell_type": "code",
   "execution_count": 9,
   "metadata": {},
   "outputs": [
    {
     "data": {
      "text/plain": [
       "4888"
      ]
     },
     "execution_count": 9,
     "metadata": {},
     "output_type": "execute_result"
    }
   ],
   "source": [
    "len(data)"
   ]
  },
  {
   "cell_type": "markdown",
   "metadata": {},
   "source": [
    "### Getting more insights into numerical variables <a class=\"anchor\" id=\"3-bullet\"></a>\n",
    "There are 13 numerical variables in total and it's quite obvious that three of them (‘Age’, ‘DurationOfPitch’ and ‘MonthlyIncome’ are continuous quantitative variables but what about other ones? Let’s split all of them into different groups and have a deeper look into all of them. "
   ]
  },
  {
   "cell_type": "code",
   "execution_count": 10,
   "metadata": {},
   "outputs": [
    {
     "name": "stdout",
     "output_type": "stream",
     "text": [
      "ProdTaken:\n",
      "\n",
      "0    3968\n",
      "1     920\n",
      "Name: ProdTaken, dtype: int64,\n",
      "Number of missing values: 0\n",
      "\n",
      "Passport:\n",
      "\n",
      "0    3466\n",
      "1    1422\n",
      "Name: Passport, dtype: int64,\n",
      "Number of missing values: 0\n",
      "\n",
      "OwnCar:\n",
      "\n",
      "0    1856\n",
      "1    3032\n",
      "Name: OwnCar, dtype: int64,\n",
      "Number of missing values: 0\n",
      "\n",
      "CityTier:\n",
      "\n",
      "1    3190\n",
      "2     198\n",
      "3    1500\n",
      "Name: CityTier, dtype: int64,\n",
      "Number of missing values: 0\n",
      "\n",
      "NumberOfPersonVisiting:\n",
      "\n",
      "1      39\n",
      "2    1418\n",
      "3    2402\n",
      "4    1026\n",
      "5       3\n",
      "Name: NumberOfPersonVisiting, dtype: int64,\n",
      "Number of missing values: 0\n",
      "\n",
      "NumberOfFollowups:\n",
      "\n",
      "1.0     176\n",
      "2.0     229\n",
      "3.0    1466\n",
      "4.0    2068\n",
      "5.0     768\n",
      "6.0     136\n",
      "Name: NumberOfFollowups, dtype: int64,\n",
      "Number of missing values: 45\n",
      "\n",
      "PreferredPropertyStar:\n",
      "\n",
      "3.0    2993\n",
      "4.0     913\n",
      "5.0     956\n",
      "Name: PreferredPropertyStar, dtype: int64,\n",
      "Number of missing values: 26\n",
      "\n",
      "NumberOfTrips:\n",
      "\n",
      "1.0      620\n",
      "2.0     1464\n",
      "3.0     1079\n",
      "4.0      478\n",
      "5.0      458\n",
      "6.0      322\n",
      "7.0      218\n",
      "8.0      105\n",
      "19.0       1\n",
      "20.0       1\n",
      "21.0       1\n",
      "22.0       1\n",
      "Name: NumberOfTrips, dtype: int64,\n",
      "Number of missing values: 140\n",
      "\n",
      "PitchSatisfactionScore:\n",
      "\n",
      "1     942\n",
      "2     586\n",
      "3    1478\n",
      "4     912\n",
      "5     970\n",
      "Name: PitchSatisfactionScore, dtype: int64,\n",
      "Number of missing values: 0\n",
      "\n",
      "NumberOfChildrenVisiting:\n",
      "\n",
      "0.0    1082\n",
      "1.0    2080\n",
      "2.0    1335\n",
      "3.0     325\n",
      "Name: NumberOfChildrenVisiting, dtype: int64,\n",
      "Number of missing values: 66\n",
      "\n"
     ]
    }
   ],
   "source": [
    "continuous_variables = []\n",
    "below_2 = []\n",
    "below_13 = []\n",
    "\n",
    "for idx, value in data.dtypes.items():\n",
    "    if value == 'float64' or value == 'int64':\n",
    "        if len(data[idx].value_counts()) <3:\n",
    "            below_2.append(idx)\n",
    "        elif len(data[idx].value_counts()) < 13:\n",
    "            below_13.append(idx)\n",
    "        elif len(data[idx].value_counts()) < len(data):\n",
    "            continuous_variables.append(idx)\n",
    "\n",
    "for n in (below_2+below_13):\n",
    "    print(f'{n}:\\n\\n{data[n].value_counts().sort_index()},\\nNumber of missing values: {data[n].isnull().sum()}\\n') "
   ]
  },
  {
   "cell_type": "code",
   "execution_count": 11,
   "metadata": {},
   "outputs": [],
   "source": [
    "continuous_variables\n",
    "binary_variables = below_2\n",
    "descrete_variables = [x for x in below_13 if x.startswith('Number')]\n",
    "ordinal_variables = [x for x in below_13 if x not in descrete_variables]"
   ]
  },
  {
   "cell_type": "code",
   "execution_count": 12,
   "metadata": {},
   "outputs": [
    {
     "data": {
      "text/html": [
       "<style  type=\"text/css\" >\n",
       "#T_2d99036c_eefe_11eb_a4cc_f894c2b393d5row0_col1,#T_2d99036c_eefe_11eb_a4cc_f894c2b393d5row1_col1,#T_2d99036c_eefe_11eb_a4cc_f894c2b393d5row2_col1,#T_2d99036c_eefe_11eb_a4cc_f894c2b393d5row3_col1{\n",
       "            width:  500px;\n",
       "        }</style><table id=\"T_2d99036c_eefe_11eb_a4cc_f894c2b393d5\" ><thead>    <tr>        <th class=\"blank level0\" ></th>        <th class=\"col_heading level0 col0\" >Type of variable</th>        <th class=\"col_heading level0 col1\" >Variable</th>    </tr></thead><tbody>\n",
       "                <tr>\n",
       "                        <th id=\"T_2d99036c_eefe_11eb_a4cc_f894c2b393d5level0_row0\" class=\"row_heading level0 row0\" >0</th>\n",
       "                        <td id=\"T_2d99036c_eefe_11eb_a4cc_f894c2b393d5row0_col0\" class=\"data row0 col0\" >Continuous</td>\n",
       "                        <td id=\"T_2d99036c_eefe_11eb_a4cc_f894c2b393d5row0_col1\" class=\"data row0 col1\" >Age, DurationOfPitch, MonthlyIncome</td>\n",
       "            </tr>\n",
       "            <tr>\n",
       "                        <th id=\"T_2d99036c_eefe_11eb_a4cc_f894c2b393d5level0_row1\" class=\"row_heading level0 row1\" >1</th>\n",
       "                        <td id=\"T_2d99036c_eefe_11eb_a4cc_f894c2b393d5row1_col0\" class=\"data row1 col0\" >Binary</td>\n",
       "                        <td id=\"T_2d99036c_eefe_11eb_a4cc_f894c2b393d5row1_col1\" class=\"data row1 col1\" >ProdTaken, Passport, OwnCar</td>\n",
       "            </tr>\n",
       "            <tr>\n",
       "                        <th id=\"T_2d99036c_eefe_11eb_a4cc_f894c2b393d5level0_row2\" class=\"row_heading level0 row2\" >2</th>\n",
       "                        <td id=\"T_2d99036c_eefe_11eb_a4cc_f894c2b393d5row2_col0\" class=\"data row2 col0\" >Descrete</td>\n",
       "                        <td id=\"T_2d99036c_eefe_11eb_a4cc_f894c2b393d5row2_col1\" class=\"data row2 col1\" >NumberOfPersonVisiting, NumberOfFollowups, NumberOfTrips, NumberOfChildrenVisiting</td>\n",
       "            </tr>\n",
       "            <tr>\n",
       "                        <th id=\"T_2d99036c_eefe_11eb_a4cc_f894c2b393d5level0_row3\" class=\"row_heading level0 row3\" >3</th>\n",
       "                        <td id=\"T_2d99036c_eefe_11eb_a4cc_f894c2b393d5row3_col0\" class=\"data row3 col0\" >Ordinal</td>\n",
       "                        <td id=\"T_2d99036c_eefe_11eb_a4cc_f894c2b393d5row3_col1\" class=\"data row3 col1\" >CityTier, PreferredPropertyStar, PitchSatisfactionScore</td>\n",
       "            </tr>\n",
       "    </tbody></table>"
      ],
      "text/plain": [
       "<pandas.io.formats.style.Styler at 0x2c9d4aae9a0>"
      ]
     },
     "execution_count": 12,
     "metadata": {},
     "output_type": "execute_result"
    }
   ],
   "source": [
    "df_n = pd.DataFrame({'Type of variable': ['Continuous', 'Binary', 'Descrete', 'Ordinal'],\n",
    "                     'Variable': [', '.join(continuous_variables), ', '.join(binary_variables), \n",
    "                                  ', '.join(descrete_variables), ', '.join(ordinal_variables)]})\n",
    "\n",
    "df_n.style.set_properties(subset=['Variable'], **{'width': '500px'})"
   ]
  },
  {
   "cell_type": "markdown",
   "metadata": {},
   "source": [
    "### First takeaways from numerical data <a class=\"anchor\" id=\"6-bullet\"></a>\n",
    "There are 4 types of variables represented by numers: continuous, discrete, binary and ordinal. \n",
    "'ProdTaken' constitutes labels for the data. There are missing values within 4 variables which will need to be fixed during the data preprocessing phase of this project. Let's have some visualisation to understand them better. "
   ]
  },
  {
   "cell_type": "markdown",
   "metadata": {},
   "source": [
    "### Distribution of labels <a class=\"anchor\" id=\"7-bullet\"></a>"
   ]
  },
  {
   "cell_type": "code",
   "execution_count": 13,
   "metadata": {},
   "outputs": [
    {
     "data": {
      "image/png": "[encoded data removed]",
      "text/plain": [
       "<Figure size 1152x576 with 1 Axes>"
      ]
     },
     "metadata": {},
     "output_type": "display_data"
    }
   ],
   "source": [
    "labels = 'Not taken', 'Taken'\n",
    "sizes = list(pd.DataFrame(data.ProdTaken.value_counts()).ProdTaken)\n",
    "explode = (0, 0.1)\n",
    "\n",
    "fig1, ax1 = plt.subplots(figsize=(6, 5))\n",
    "ax1.pie(sizes, explode=explode, labels=labels, autopct='%1.1f%%')\n",
    "plt.title('Distribution of labels')\n",
    "fig1.set_size_inches(16, 8)\n",
    "plt.show()"
   ]
  },
  {
   "cell_type": "markdown",
   "metadata": {},
   "source": [
    "### Distribution of continuous variables <a class=\"anchor\" id=\"8-bullet\"></a>"
   ]
  },
  {
   "cell_type": "code",
   "execution_count": 14,
   "metadata": {},
   "outputs": [
    {
     "data": {
      "image/png": "[encoded data removed]",
      "text/plain": [
       "<Figure size 1152x360 with 3 Axes>"
      ]
     },
     "metadata": {
      "needs_background": "light"
     },
     "output_type": "display_data"
    }
   ],
   "source": [
    "def plot_hist(data):\n",
    "    data.hist(bins=12, figsize=(16, 5), layout=(1, 3))\n",
    "    return plt.show()\n",
    "\n",
    "plot_hist(data[continuous_variables])"
   ]
  },
  {
   "cell_type": "markdown",
   "metadata": {},
   "source": [
    "Looking at the distribution of lables I can clearly say that almost 19% of observations belong to class 0 and 81% - to class 1. In this data set 81% of the customers did not end up making a purchase. That means that I will deal with the problem of imbalanced data which needs a special tactic to combat. \n",
    "'Age' has rather a normal distribution however looking at the distribution of 'DurationOfPitch' and 'MonthlyIncome' it's obvious that there are some extreme outliners in both of them. So let's check them."
   ]
  },
  {
   "cell_type": "code",
   "execution_count": 15,
   "metadata": {},
   "outputs": [
    {
     "name": "stdout",
     "output_type": "stream",
     "text": [
      "No of observations with income higher than 45k: 2\n",
      "No of observations with income lower than 10k: 2\n"
     ]
    }
   ],
   "source": [
    "print(f'No of observations with income higher than 45k: {len(data[data.MonthlyIncome >= 45000])}')\n",
    "print(f'No of observations with income lower than 10k: {len(data[data.MonthlyIncome <= 10000])}')\n",
    "        "
   ]
  },
  {
   "cell_type": "markdown",
   "metadata": {},
   "source": [
    "This is such a small percentage which will have a rather bad impact on the classification algorithms, therefore I will remove them from the data. "
   ]
  },
  {
   "cell_type": "code",
   "execution_count": 16,
   "metadata": {},
   "outputs": [],
   "source": [
    "data.drop(data[data.MonthlyIncome >= 45000].index, inplace=True)\n",
    "data.drop(data[data.MonthlyIncome <= 10000].index, inplace=True)"
   ]
  },
  {
   "cell_type": "code",
   "execution_count": 17,
   "metadata": {},
   "outputs": [
    {
     "name": "stdout",
     "output_type": "stream",
     "text": [
      "No of observations with Duration higher than 60: 2\n",
      "No of observations with Duration lower than 5: 6\n"
     ]
    }
   ],
   "source": [
    "print(f'No of observations with Duration higher than 60: {len(data[data.DurationOfPitch >= 80])}')\n",
    "print(f'No of observations with Duration lower than 5: {len(data[data.DurationOfPitch <= 5])}')"
   ]
  },
  {
   "cell_type": "markdown",
   "metadata": {},
   "source": [
    "Also in this case the outliners will casue a noice which will have a bad impact on the alhorithms, therefore i will remove them too."
   ]
  },
  {
   "cell_type": "code",
   "execution_count": 18,
   "metadata": {},
   "outputs": [],
   "source": [
    "data.drop(data[data.DurationOfPitch >= 80].index, inplace=True)\n",
    "data.drop(data[data.DurationOfPitch <= 5].index, inplace=True)"
   ]
  },
  {
   "cell_type": "code",
   "execution_count": 19,
   "metadata": {},
   "outputs": [
    {
     "data": {
      "image/png": "[encoded data removed]",
      "text/plain": [
       "<Figure size 1152x360 with 3 Axes>"
      ]
     },
     "metadata": {
      "needs_background": "light"
     },
     "output_type": "display_data"
    }
   ],
   "source": [
    "plot_hist(data[continuous_variables])"
   ]
  },
  {
   "cell_type": "markdown",
   "metadata": {},
   "source": [
    "### Distribution of other numerical variables <a class=\"anchor\" id=\"9-bullet\"></a>"
   ]
  },
  {
   "cell_type": "code",
   "execution_count": 20,
   "metadata": {},
   "outputs": [
    {
     "data": {
      "image/png": "[encoded data removed]",
      "text/plain": [
       "<Figure size 1080x1080 with 9 Axes>"
      ]
     },
     "metadata": {
      "needs_background": "light"
     },
     "output_type": "display_data"
    }
   ],
   "source": [
    "def bar_plot(category_list, rows, columns):\n",
    "    fig, ax = plt.subplots(nrows=rows, ncols=columns, figsize=(15, 15))\n",
    "    for variable, subplot in zip(category_list, ax.flatten()):\n",
    "        sns.countplot(x=data[variable], ax=subplot)\n",
    "    for label in subplot.get_xticklabels():\n",
    "        label.set_rotation(90)\n",
    "    return plt.show()\n",
    "\n",
    "other_numerical = binary_variables[1:]+ descrete_variables + ordinal_variables\n",
    "\n",
    "bar_plot(other_numerical, 3, 3)"
   ]
  },
  {
   "cell_type": "markdown",
   "metadata": {},
   "source": [
    "### Getting more insights into categorical variables <a class=\"anchor\" id=\"10-bullet\"></a>\n",
    "There are 6 categorical variables in total, so let's have a deeper look into their classes and their missing values."
   ]
  },
  {
   "cell_type": "code",
   "execution_count": 21,
   "metadata": {},
   "outputs": [
    {
     "name": "stdout",
     "output_type": "stream",
     "text": [
      "TypeofContact:\n",
      "\n",
      "Self Enquiry       3436\n",
      "Company Invited    1415\n",
      "Name: TypeofContact, dtype: int64,\n",
      "Number of missing values: 25\n",
      "\n",
      "Occupation:\n",
      "\n",
      "Salaried          2360\n",
      "Small Business    2082\n",
      "Large Business     432\n",
      "Free Lancer          2\n",
      "Name: Occupation, dtype: int64,\n",
      "Number of missing values: 0\n",
      "\n",
      "Gender:\n",
      "\n",
      "Male       2909\n",
      "Female     1812\n",
      "Fe Male     155\n",
      "Name: Gender, dtype: int64,\n",
      "Number of missing values: 0\n",
      "\n",
      "ProductPitched:\n",
      "\n",
      "Basic           1837\n",
      "Deluxe          1729\n",
      "Standard         740\n",
      "Super Deluxe     342\n",
      "King             228\n",
      "Name: ProductPitched, dtype: int64,\n",
      "Number of missing values: 0\n",
      "\n",
      "MaritalStatus:\n",
      "\n",
      "Married      2336\n",
      "Divorced      947\n",
      "Single        912\n",
      "Unmarried     681\n",
      "Name: MaritalStatus, dtype: int64,\n",
      "Number of missing values: 0\n",
      "\n",
      "Designation:\n",
      "\n",
      "Executive         1837\n",
      "Manager           1729\n",
      "Senior Manager     740\n",
      "AVP                342\n",
      "VP                 228\n",
      "Name: Designation, dtype: int64,\n",
      "Number of missing values: 0\n",
      "\n"
     ]
    }
   ],
   "source": [
    "categorical_variables = []\n",
    "for idx, value in data.dtypes.items():\n",
    "    if value == 'object':\n",
    "        categorical_variables.append(idx)\n",
    "        \n",
    "for n in categorical_variables:\n",
    "    print(f'{n}:\\n\\n{data[n].value_counts()},\\nNumber of missing values: {data[n].isnull().sum()}\\n') "
   ]
  },
  {
   "cell_type": "code",
   "execution_count": 23,
   "metadata": {},
   "outputs": [
    {
     "data": {
      "text/html": [
       "<div>\n",
       "<style scoped>\n",
       "    .dataframe tbody tr th:only-of-type {\n",
       "        vertical-align: middle;\n",
       "    }\n",
       "\n",
       "    .dataframe tbody tr th {\n",
       "        vertical-align: top;\n",
       "    }\n",
       "\n",
       "    .dataframe thead th {\n",
       "        text-align: right;\n",
       "    }\n",
       "</style>\n",
       "<table border=\"1\" class=\"dataframe\">\n",
       "  <thead>\n",
       "    <tr style=\"text-align: right;\">\n",
       "      <th></th>\n",
       "      <th>Variable</th>\n",
       "      <th>No of classes</th>\n",
       "    </tr>\n",
       "  </thead>\n",
       "  <tbody>\n",
       "    <tr>\n",
       "      <th>0</th>\n",
       "      <td>TypeofContact</td>\n",
       "      <td>2</td>\n",
       "    </tr>\n",
       "    <tr>\n",
       "      <th>1</th>\n",
       "      <td>Occupation</td>\n",
       "      <td>4</td>\n",
       "    </tr>\n",
       "    <tr>\n",
       "      <th>2</th>\n",
       "      <td>Gender</td>\n",
       "      <td>3</td>\n",
       "    </tr>\n",
       "    <tr>\n",
       "      <th>3</th>\n",
       "      <td>ProductPitched</td>\n",
       "      <td>5</td>\n",
       "    </tr>\n",
       "    <tr>\n",
       "      <th>4</th>\n",
       "      <td>MaritalStatus</td>\n",
       "      <td>4</td>\n",
       "    </tr>\n",
       "    <tr>\n",
       "      <th>5</th>\n",
       "      <td>Designation</td>\n",
       "      <td>5</td>\n",
       "    </tr>\n",
       "  </tbody>\n",
       "</table>\n",
       "</div>"
      ],
      "text/plain": [
       "         Variable  No of classes\n",
       "0   TypeofContact              2\n",
       "1      Occupation              4\n",
       "2          Gender              3\n",
       "3  ProductPitched              5\n",
       "4   MaritalStatus              4\n",
       "5     Designation              5"
      ]
     },
     "execution_count": 23,
     "metadata": {},
     "output_type": "execute_result"
    }
   ],
   "source": [
    "df_c = pd.DataFrame({'Variable': [categorical_variables[0], categorical_variables[1],\n",
    "                                 categorical_variables[2], categorical_variables[3],\n",
    "                                 categorical_variables[4], categorical_variables[5]],\n",
    "                     'No of classes': [len(data.TypeofContact.value_counts()), len(data.Occupation.value_counts()), \n",
    "                                       len(data.Gender.value_counts()), len(data.ProductPitched.value_counts()),\n",
    "                                       len(data.MaritalStatus.value_counts()),len(data.Designation.value_counts()) ]})\n",
    "df_c"
   ]
  },
  {
   "cell_type": "markdown",
   "metadata": {},
   "source": [
    "### Distribution of categorical variables <a class=\"anchor\" id=\"11-bullet\"></a>"
   ]
  },
  {
   "cell_type": "code",
   "execution_count": 24,
   "metadata": {},
   "outputs": [
    {
     "data": {
      "image/png": "[encoded data removed]",
      "text/plain": [
       "<Figure size 1080x1080 with 6 Axes>"
      ]
     },
     "metadata": {
      "needs_background": "light"
     },
     "output_type": "display_data"
    }
   ],
   "source": [
    "bar_plot(categorical_variables, 2, 3)"
   ]
  },
  {
   "cell_type": "markdown",
   "metadata": {},
   "source": [
    "### Takeaways from categorical data <a class=\"anchor\" id=\"12-bullet\"></a>\n",
    "'Gender' has an additional class caused by misspelled word 'Fe Male' which will be immediately fixed. Also 'Freelancer' class is misspelled which will be corrected now.'MaritalStatus has 2 classes meaning single - 'Single' and 'Unmarried'. I will therefore combine them together. "
   ]
  },
  {
   "cell_type": "code",
   "execution_count": 25,
   "metadata": {},
   "outputs": [],
   "source": [
    "data.loc[data['Gender'] == 'Fe Male', 'Gender'] = 'Female'\n",
    "data.loc[data['MaritalStatus'] == 'Unmarried', 'MaritalStatus'] = 'Single'\n",
    "data.loc[data['Occupation'] == 'Free Lancer', 'Occupation'] = 'Freelancer'"
   ]
  },
  {
   "cell_type": "code",
   "execution_count": 26,
   "metadata": {},
   "outputs": [
    {
     "data": {
      "text/plain": [
       "Male      2909\n",
       "Female    1967\n",
       "Name: Gender, dtype: int64"
      ]
     },
     "execution_count": 26,
     "metadata": {},
     "output_type": "execute_result"
    }
   ],
   "source": [
    "data.Gender.value_counts()"
   ]
  },
  {
   "cell_type": "code",
   "execution_count": 27,
   "metadata": {},
   "outputs": [
    {
     "data": {
      "text/plain": [
       "Male      2909\n",
       "Female    1967\n",
       "Name: Gender, dtype: int64"
      ]
     },
     "execution_count": 27,
     "metadata": {},
     "output_type": "execute_result"
    }
   ],
   "source": [
    "data.Gender.value_counts()"
   ]
  },
  {
   "cell_type": "code",
   "execution_count": 28,
   "metadata": {},
   "outputs": [
    {
     "data": {
      "text/plain": [
       "Salaried          2360\n",
       "Small Business    2082\n",
       "Large Business     432\n",
       "Freelancer           2\n",
       "Name: Occupation, dtype: int64"
      ]
     },
     "execution_count": 28,
     "metadata": {},
     "output_type": "execute_result"
    }
   ],
   "source": [
    "data.Occupation.value_counts()"
   ]
  },
  {
   "cell_type": "markdown",
   "metadata": {},
   "source": [
    "### How the customers' demographic features do contribute to a purchase conversion? <a class=\"anchor\" id=\"13-bullet\"></a>"
   ]
  },
  {
   "cell_type": "markdown",
   "metadata": {},
   "source": [
    "#### Age & Monthly income vs Sex contribution"
   ]
  },
  {
   "cell_type": "code",
   "execution_count": 29,
   "metadata": {},
   "outputs": [
    {
     "data": {
      "image/png": "[encoded data removed]",
      "text/plain": [
       "<Figure size 720x288 with 2 Axes>"
      ]
     },
     "metadata": {
      "needs_background": "light"
     },
     "output_type": "display_data"
    }
   ],
   "source": [
    "def check_continuous_variables_contribution(continuous):\n",
    "    booked = 'Booked'\n",
    "    not_booked = 'Not Booked'\n",
    "    fig, axes = plt.subplots(nrows=1, ncols=2,figsize=(10, 4))\n",
    "    women = data[data['Gender']=='Female']\n",
    "    men = data[data['Gender']=='Male']\n",
    "    ax = sns.histplot(women[women['ProdTaken']==1][continuous].dropna(), bins=18, label = booked, ax = axes[0], kde =False)\n",
    "    ax = sns.histplot(women[women['ProdTaken']==0][continuous].dropna(), bins=40, label = not_booked, ax = axes[0], kde =False)\n",
    "    ax.legend()\n",
    "    ax.set_title('Female')\n",
    "    ax = sns.histplot(men[men['ProdTaken']==1][continuous].dropna(), bins=18, label = booked, ax = axes[1], kde = False)\n",
    "    ax = sns.histplot(men[men['ProdTaken']==0][continuous].dropna(), bins=40, label = not_booked, ax = axes[1], kde = False)\n",
    "    ax.legend()\n",
    "    _ = ax.set_title('Male')\n",
    "    return plt.show()\n",
    "\n",
    "check_continuous_variables_contribution('Age')"
   ]
  },
  {
   "cell_type": "code",
   "execution_count": 30,
   "metadata": {},
   "outputs": [
    {
     "data": {
      "image/png": "[encoded data removed]",
      "text/plain": [
       "<Figure size 720x288 with 2 Axes>"
      ]
     },
     "metadata": {
      "needs_background": "light"
     },
     "output_type": "display_data"
    }
   ],
   "source": [
    "check_continuous_variables_contribution('MonthlyIncome')"
   ]
  },
  {
   "cell_type": "markdown",
   "metadata": {},
   "source": [
    "#### City, Occupation, Marital status and Dedsignation contribution"
   ]
  },
  {
   "cell_type": "code",
   "execution_count": 31,
   "metadata": {},
   "outputs": [],
   "source": [
    "def check_categorical_variables(data,x_variables,ax):\n",
    "    num_x=len([x for x in data[x_variables].unique() if x==x])\n",
    "    bars = ax.patches\n",
    "    for ind in range(num_x):\n",
    "        hue_bars = bars[ind:][::num_x]\n",
    "        total = sum([x.get_height() for x in hue_bars])\n",
    "        for bar in hue_bars:\n",
    "            ax.text(bar.get_x() + bar.get_width()/2.,\n",
    "                    bar.get_height(),\n",
    "                    f'{bar.get_height()/total:.0%}',\n",
    "                    ha=\"center\",va=\"bottom\")"
   ]
  },
  {
   "cell_type": "code",
   "execution_count": 32,
   "metadata": {},
   "outputs": [
    {
     "data": {
      "image/png": "[encoded data removed]",
      "text/plain": [
       "<Figure size 504x360 with 1 Axes>"
      ]
     },
     "metadata": {
      "needs_background": "light"
     },
     "output_type": "display_data"
    },
    {
     "name": "stderr",
     "output_type": "stream",
     "text": [
      "posx and posy should be finite values\n",
      "posx and posy should be finite values\n"
     ]
    },
    {
     "data": {
      "image/png": "[encoded data removed]",
      "text/plain": [
       "<Figure size 504x360 with 1 Axes>"
      ]
     },
     "metadata": {
      "needs_background": "light"
     },
     "output_type": "display_data"
    },
    {
     "data": {
      "image/png": "[encoded data removed]",
      "text/plain": [
       "<Figure size 504x360 with 1 Axes>"
      ]
     },
     "metadata": {
      "needs_background": "light"
     },
     "output_type": "display_data"
    },
    {
     "data": {
      "image/png": "[encoded data removed]",
      "text/plain": [
       "<Figure size 504x360 with 1 Axes>"
      ]
     },
     "metadata": {
      "needs_background": "light"
     },
     "output_type": "display_data"
    }
   ],
   "source": [
    "multiclass = ['CityTier', 'Occupation', 'MaritalStatus', 'Designation']\n",
    "for c in multiclass: \n",
    "    plt.figure(figsize = (7, 5))\n",
    "    ax = sns.countplot(x = c, hue = 'ProdTaken', data = data)\n",
    "    plt.xticks(size=12)\n",
    "    plt.xlabel(c, size = 12)\n",
    "    plt.ylabel('count', size=12)\n",
    "\n",
    "    check_categorical_variables(data, c, ax)"
   ]
  },
  {
   "cell_type": "markdown",
   "metadata": {},
   "source": [
    "### Takeaways from customer demographic features contributing to the purchase conversion<a class=\"anchor\" id=\"14-bullet\"></a>"
   ]
  },
  {
   "cell_type": "markdown",
   "metadata": {},
   "source": [
    "There is huge probability of purchase in the group of:\n",
    "- women in the age between 25 and 35 earning about 17k and between 20k and 23k a month\n",
    "- men in the age between 25 and 35 earning about 17k and between 20k and 23k a month\n",
    "\n",
    "There is 'Freelancer' class in the 'Occupation' variable represented by 2 observations only, both belonging to the label 1 which causes an error in displaying the plot. Classes with higher conversion rate which can be used for recommendations while approaching customers are following:\n",
    "- in the 'CityTier': CityTier 2 and CityTier 3 (23% and 24%)\n",
    "- in the 'Occupation': Large Business (28%)\n",
    "- in the 'MaritalStatus': Single (30%)\n",
    "- in the 'Designation': Executive (30%)"
   ]
  },
  {
   "cell_type": "markdown",
   "metadata": {},
   "source": [
    "### Let's have a look into coralation between all variables<a class=\"anchor\" id=\"15-bullet\"></a>"
   ]
  },
  {
   "cell_type": "code",
   "execution_count": 33,
   "metadata": {},
   "outputs": [],
   "source": [
    "X = data.drop('ProdTaken', axis = 1)\n",
    "y = data['ProdTaken'].copy()"
   ]
  },
  {
   "cell_type": "code",
   "execution_count": 34,
   "metadata": {},
   "outputs": [
    {
     "data": {
      "text/plain": [
       "<AxesSubplot:>"
      ]
     },
     "execution_count": 34,
     "metadata": {},
     "output_type": "execute_result"
    },
    {
     "data": {
      "image/png": "[encoded data removed]",
      "text/plain": [
       "<Figure size 432x288 with 2 Axes>"
      ]
     },
     "metadata": {
      "needs_background": "light"
     },
     "output_type": "display_data"
    }
   ],
   "source": [
    "cor = X.corr()\n",
    "sns.heatmap(cor, xticklabels=cor.columns,yticklabels=cor.columns)"
   ]
  },
  {
   "cell_type": "markdown",
   "metadata": {},
   "source": [
    "There are following variables with a high corelation to consider not to include them into classification altorythm:\n",
    "- 'NumberOfPersonVisiting' and 'NumberOfChildrenVisting' / I will work with 'NumberOfPersonVisiting'.\n",
    "- 'Age' and 'MonthlyIncome' / I will work with 'Age' only. "
   ]
  },
  {
   "cell_type": "markdown",
   "metadata": {},
   "source": [
    "### Missing values within all variables for future fixing<a class=\"anchor\" id=\"16-bullet\"></a>"
   ]
  },
  {
   "cell_type": "code",
   "execution_count": 35,
   "metadata": {},
   "outputs": [
    {
     "data": {
      "text/html": [
       "<div>\n",
       "<style scoped>\n",
       "    .dataframe tbody tr th:only-of-type {\n",
       "        vertical-align: middle;\n",
       "    }\n",
       "\n",
       "    .dataframe tbody tr th {\n",
       "        vertical-align: top;\n",
       "    }\n",
       "\n",
       "    .dataframe thead th {\n",
       "        text-align: right;\n",
       "    }\n",
       "</style>\n",
       "<table border=\"1\" class=\"dataframe\">\n",
       "  <thead>\n",
       "    <tr style=\"text-align: right;\">\n",
       "      <th></th>\n",
       "      <th>Total</th>\n",
       "      <th>%</th>\n",
       "      <th>Dtype</th>\n",
       "    </tr>\n",
       "  </thead>\n",
       "  <tbody>\n",
       "    <tr>\n",
       "      <th>DurationOfPitch</th>\n",
       "      <td>251</td>\n",
       "      <td>5.1</td>\n",
       "      <td>float64</td>\n",
       "    </tr>\n",
       "    <tr>\n",
       "      <th>MonthlyIncome</th>\n",
       "      <td>232</td>\n",
       "      <td>4.8</td>\n",
       "      <td>float64</td>\n",
       "    </tr>\n",
       "    <tr>\n",
       "      <th>Age</th>\n",
       "      <td>224</td>\n",
       "      <td>4.6</td>\n",
       "      <td>float64</td>\n",
       "    </tr>\n",
       "    <tr>\n",
       "      <th>NumberOfTrips</th>\n",
       "      <td>140</td>\n",
       "      <td>2.9</td>\n",
       "      <td>float64</td>\n",
       "    </tr>\n",
       "    <tr>\n",
       "      <th>NumberOfChildrenVisiting</th>\n",
       "      <td>66</td>\n",
       "      <td>1.4</td>\n",
       "      <td>float64</td>\n",
       "    </tr>\n",
       "    <tr>\n",
       "      <th>NumberOfFollowups</th>\n",
       "      <td>45</td>\n",
       "      <td>0.9</td>\n",
       "      <td>float64</td>\n",
       "    </tr>\n",
       "    <tr>\n",
       "      <th>TypeofContact</th>\n",
       "      <td>25</td>\n",
       "      <td>0.5</td>\n",
       "      <td>object</td>\n",
       "    </tr>\n",
       "    <tr>\n",
       "      <th>PreferredPropertyStar</th>\n",
       "      <td>25</td>\n",
       "      <td>0.5</td>\n",
       "      <td>float64</td>\n",
       "    </tr>\n",
       "    <tr>\n",
       "      <th>Gender</th>\n",
       "      <td>0</td>\n",
       "      <td>0.0</td>\n",
       "      <td>object</td>\n",
       "    </tr>\n",
       "    <tr>\n",
       "      <th>CityTier</th>\n",
       "      <td>0</td>\n",
       "      <td>0.0</td>\n",
       "      <td>int64</td>\n",
       "    </tr>\n",
       "    <tr>\n",
       "      <th>Occupation</th>\n",
       "      <td>0</td>\n",
       "      <td>0.0</td>\n",
       "      <td>object</td>\n",
       "    </tr>\n",
       "    <tr>\n",
       "      <th>ProductPitched</th>\n",
       "      <td>0</td>\n",
       "      <td>0.0</td>\n",
       "      <td>object</td>\n",
       "    </tr>\n",
       "    <tr>\n",
       "      <th>NumberOfPersonVisiting</th>\n",
       "      <td>0</td>\n",
       "      <td>0.0</td>\n",
       "      <td>int64</td>\n",
       "    </tr>\n",
       "    <tr>\n",
       "      <th>Designation</th>\n",
       "      <td>0</td>\n",
       "      <td>0.0</td>\n",
       "      <td>object</td>\n",
       "    </tr>\n",
       "    <tr>\n",
       "      <th>MaritalStatus</th>\n",
       "      <td>0</td>\n",
       "      <td>0.0</td>\n",
       "      <td>object</td>\n",
       "    </tr>\n",
       "    <tr>\n",
       "      <th>Passport</th>\n",
       "      <td>0</td>\n",
       "      <td>0.0</td>\n",
       "      <td>int64</td>\n",
       "    </tr>\n",
       "    <tr>\n",
       "      <th>PitchSatisfactionScore</th>\n",
       "      <td>0</td>\n",
       "      <td>0.0</td>\n",
       "      <td>int64</td>\n",
       "    </tr>\n",
       "    <tr>\n",
       "      <th>OwnCar</th>\n",
       "      <td>0</td>\n",
       "      <td>0.0</td>\n",
       "      <td>int64</td>\n",
       "    </tr>\n",
       "    <tr>\n",
       "      <th>ProdTaken</th>\n",
       "      <td>0</td>\n",
       "      <td>0.0</td>\n",
       "      <td>int64</td>\n",
       "    </tr>\n",
       "  </tbody>\n",
       "</table>\n",
       "</div>"
      ],
      "text/plain": [
       "                          Total    %    Dtype\n",
       "DurationOfPitch             251  5.1  float64\n",
       "MonthlyIncome               232  4.8  float64\n",
       "Age                         224  4.6  float64\n",
       "NumberOfTrips               140  2.9  float64\n",
       "NumberOfChildrenVisiting     66  1.4  float64\n",
       "NumberOfFollowups            45  0.9  float64\n",
       "TypeofContact                25  0.5   object\n",
       "PreferredPropertyStar        25  0.5  float64\n",
       "Gender                        0  0.0   object\n",
       "CityTier                      0  0.0    int64\n",
       "Occupation                    0  0.0   object\n",
       "ProductPitched                0  0.0   object\n",
       "NumberOfPersonVisiting        0  0.0    int64\n",
       "Designation                   0  0.0   object\n",
       "MaritalStatus                 0  0.0   object\n",
       "Passport                      0  0.0    int64\n",
       "PitchSatisfactionScore        0  0.0    int64\n",
       "OwnCar                        0  0.0    int64\n",
       "ProdTaken                     0  0.0    int64"
      ]
     },
     "execution_count": 35,
     "metadata": {},
     "output_type": "execute_result"
    }
   ],
   "source": [
    "def missing_values_calculator(data):\n",
    "    total = data.isnull().sum().sort_values(ascending=False)\n",
    "    types = pd.Series([data[x].dtype for x in data.isnull().sum().index], index=data.columns)\n",
    "    percent_1 = data.isnull().sum()/data.isnull().count()*100\n",
    "    percent_2 = (round(percent_1, 1)).sort_values(ascending=False)\n",
    "\n",
    "    missing_data = pd.concat([total, percent_2, types], axis=1, keys=['Total', '%', 'Dtype'])\n",
    "    return missing_data\n",
    "\n",
    "missing_values_calculator(data)"
   ]
  },
  {
   "cell_type": "markdown",
   "metadata": {},
   "source": [
    "# PREPROCESSING AND SPLITTING THE DATA<a class=\"anchor\" id=\"17-bullet\"></a>"
   ]
  },
  {
   "cell_type": "code",
   "execution_count": 36,
   "metadata": {},
   "outputs": [
    {
     "data": {
      "text/html": [
       "<div>\n",
       "<style scoped>\n",
       "    .dataframe tbody tr th:only-of-type {\n",
       "        vertical-align: middle;\n",
       "    }\n",
       "\n",
       "    .dataframe tbody tr th {\n",
       "        vertical-align: top;\n",
       "    }\n",
       "\n",
       "    .dataframe thead th {\n",
       "        text-align: right;\n",
       "    }\n",
       "</style>\n",
       "<table border=\"1\" class=\"dataframe\">\n",
       "  <thead>\n",
       "    <tr style=\"text-align: right;\">\n",
       "      <th></th>\n",
       "      <th>Age</th>\n",
       "      <th>TypeofContact</th>\n",
       "      <th>CityTier</th>\n",
       "      <th>DurationOfPitch</th>\n",
       "      <th>Occupation</th>\n",
       "      <th>Gender</th>\n",
       "      <th>NumberOfPersonVisiting</th>\n",
       "      <th>NumberOfFollowups</th>\n",
       "      <th>ProductPitched</th>\n",
       "      <th>PreferredPropertyStar</th>\n",
       "      <th>MaritalStatus</th>\n",
       "      <th>NumberOfTrips</th>\n",
       "      <th>Passport</th>\n",
       "      <th>PitchSatisfactionScore</th>\n",
       "      <th>OwnCar</th>\n",
       "      <th>NumberOfChildrenVisiting</th>\n",
       "      <th>Designation</th>\n",
       "      <th>MonthlyIncome</th>\n",
       "    </tr>\n",
       "  </thead>\n",
       "  <tbody>\n",
       "    <tr>\n",
       "      <th>0</th>\n",
       "      <td>41.0</td>\n",
       "      <td>Self Enquiry</td>\n",
       "      <td>3</td>\n",
       "      <td>6.0</td>\n",
       "      <td>Salaried</td>\n",
       "      <td>Female</td>\n",
       "      <td>3</td>\n",
       "      <td>3.0</td>\n",
       "      <td>Deluxe</td>\n",
       "      <td>3.0</td>\n",
       "      <td>Single</td>\n",
       "      <td>1.0</td>\n",
       "      <td>1</td>\n",
       "      <td>2</td>\n",
       "      <td>1</td>\n",
       "      <td>0.0</td>\n",
       "      <td>Manager</td>\n",
       "      <td>20993.0</td>\n",
       "    </tr>\n",
       "    <tr>\n",
       "      <th>1</th>\n",
       "      <td>49.0</td>\n",
       "      <td>Company Invited</td>\n",
       "      <td>1</td>\n",
       "      <td>14.0</td>\n",
       "      <td>Salaried</td>\n",
       "      <td>Male</td>\n",
       "      <td>3</td>\n",
       "      <td>4.0</td>\n",
       "      <td>Deluxe</td>\n",
       "      <td>4.0</td>\n",
       "      <td>Divorced</td>\n",
       "      <td>2.0</td>\n",
       "      <td>0</td>\n",
       "      <td>3</td>\n",
       "      <td>1</td>\n",
       "      <td>2.0</td>\n",
       "      <td>Manager</td>\n",
       "      <td>20130.0</td>\n",
       "    </tr>\n",
       "    <tr>\n",
       "      <th>2</th>\n",
       "      <td>37.0</td>\n",
       "      <td>Self Enquiry</td>\n",
       "      <td>1</td>\n",
       "      <td>8.0</td>\n",
       "      <td>Freelancer</td>\n",
       "      <td>Male</td>\n",
       "      <td>3</td>\n",
       "      <td>4.0</td>\n",
       "      <td>Basic</td>\n",
       "      <td>3.0</td>\n",
       "      <td>Single</td>\n",
       "      <td>7.0</td>\n",
       "      <td>1</td>\n",
       "      <td>3</td>\n",
       "      <td>0</td>\n",
       "      <td>0.0</td>\n",
       "      <td>Executive</td>\n",
       "      <td>17090.0</td>\n",
       "    </tr>\n",
       "    <tr>\n",
       "      <th>3</th>\n",
       "      <td>33.0</td>\n",
       "      <td>Company Invited</td>\n",
       "      <td>1</td>\n",
       "      <td>9.0</td>\n",
       "      <td>Salaried</td>\n",
       "      <td>Female</td>\n",
       "      <td>2</td>\n",
       "      <td>3.0</td>\n",
       "      <td>Basic</td>\n",
       "      <td>3.0</td>\n",
       "      <td>Divorced</td>\n",
       "      <td>2.0</td>\n",
       "      <td>1</td>\n",
       "      <td>5</td>\n",
       "      <td>1</td>\n",
       "      <td>1.0</td>\n",
       "      <td>Executive</td>\n",
       "      <td>17909.0</td>\n",
       "    </tr>\n",
       "    <tr>\n",
       "      <th>4</th>\n",
       "      <td>NaN</td>\n",
       "      <td>Self Enquiry</td>\n",
       "      <td>1</td>\n",
       "      <td>8.0</td>\n",
       "      <td>Small Business</td>\n",
       "      <td>Male</td>\n",
       "      <td>2</td>\n",
       "      <td>3.0</td>\n",
       "      <td>Basic</td>\n",
       "      <td>4.0</td>\n",
       "      <td>Divorced</td>\n",
       "      <td>1.0</td>\n",
       "      <td>0</td>\n",
       "      <td>5</td>\n",
       "      <td>1</td>\n",
       "      <td>0.0</td>\n",
       "      <td>Executive</td>\n",
       "      <td>18468.0</td>\n",
       "    </tr>\n",
       "  </tbody>\n",
       "</table>\n",
       "</div>"
      ],
      "text/plain": [
       "    Age    TypeofContact  CityTier  DurationOfPitch      Occupation  Gender  \\\n",
       "0  41.0     Self Enquiry         3              6.0        Salaried  Female   \n",
       "1  49.0  Company Invited         1             14.0        Salaried    Male   \n",
       "2  37.0     Self Enquiry         1              8.0      Freelancer    Male   \n",
       "3  33.0  Company Invited         1              9.0        Salaried  Female   \n",
       "4   NaN     Self Enquiry         1              8.0  Small Business    Male   \n",
       "\n",
       "   NumberOfPersonVisiting  NumberOfFollowups ProductPitched  \\\n",
       "0                       3                3.0         Deluxe   \n",
       "1                       3                4.0         Deluxe   \n",
       "2                       3                4.0          Basic   \n",
       "3                       2                3.0          Basic   \n",
       "4                       2                3.0          Basic   \n",
       "\n",
       "   PreferredPropertyStar MaritalStatus  NumberOfTrips  Passport  \\\n",
       "0                    3.0        Single            1.0         1   \n",
       "1                    4.0      Divorced            2.0         0   \n",
       "2                    3.0        Single            7.0         1   \n",
       "3                    3.0      Divorced            2.0         1   \n",
       "4                    4.0      Divorced            1.0         0   \n",
       "\n",
       "   PitchSatisfactionScore  OwnCar  NumberOfChildrenVisiting Designation  \\\n",
       "0                       2       1                       0.0     Manager   \n",
       "1                       3       1                       2.0     Manager   \n",
       "2                       3       0                       0.0   Executive   \n",
       "3                       5       1                       1.0   Executive   \n",
       "4                       5       1                       0.0   Executive   \n",
       "\n",
       "   MonthlyIncome  \n",
       "0        20993.0  \n",
       "1        20130.0  \n",
       "2        17090.0  \n",
       "3        17909.0  \n",
       "4        18468.0  "
      ]
     },
     "execution_count": 36,
     "metadata": {},
     "output_type": "execute_result"
    }
   ],
   "source": [
    "X.head()"
   ]
  },
  {
   "cell_type": "code",
   "execution_count": 37,
   "metadata": {},
   "outputs": [
    {
     "data": {
      "text/plain": [
       "0    1\n",
       "1    0\n",
       "2    1\n",
       "3    0\n",
       "4    0\n",
       "Name: ProdTaken, dtype: int64"
      ]
     },
     "execution_count": 37,
     "metadata": {},
     "output_type": "execute_result"
    }
   ],
   "source": [
    "y.head()"
   ]
  },
  {
   "cell_type": "code",
   "execution_count": 38,
   "metadata": {},
   "outputs": [
    {
     "data": {
      "text/plain": [
       "(4876, 18)"
      ]
     },
     "execution_count": 38,
     "metadata": {},
     "output_type": "execute_result"
    }
   ],
   "source": [
    "X.shape"
   ]
  },
  {
   "cell_type": "code",
   "execution_count": 39,
   "metadata": {},
   "outputs": [
    {
     "data": {
      "text/plain": [
       "(4876,)"
      ]
     },
     "execution_count": 39,
     "metadata": {},
     "output_type": "execute_result"
    }
   ],
   "source": [
    "y.shape"
   ]
  },
  {
   "cell_type": "markdown",
   "metadata": {},
   "source": [
    "### Spliting the data<a class=\"anchor\" id=\"18-bullet\"></a>"
   ]
  },
  {
   "cell_type": "code",
   "execution_count": 40,
   "metadata": {},
   "outputs": [],
   "source": [
    "X_train, X_test, y_train, y_test = train_test_split(X, y, test_size=0.20, random_state=42)"
   ]
  },
  {
   "cell_type": "code",
   "execution_count": 41,
   "metadata": {},
   "outputs": [
    {
     "data": {
      "text/html": [
       "<div>\n",
       "<style scoped>\n",
       "    .dataframe tbody tr th:only-of-type {\n",
       "        vertical-align: middle;\n",
       "    }\n",
       "\n",
       "    .dataframe tbody tr th {\n",
       "        vertical-align: top;\n",
       "    }\n",
       "\n",
       "    .dataframe thead th {\n",
       "        text-align: right;\n",
       "    }\n",
       "</style>\n",
       "<table border=\"1\" class=\"dataframe\">\n",
       "  <thead>\n",
       "    <tr style=\"text-align: right;\">\n",
       "      <th></th>\n",
       "      <th>Total</th>\n",
       "      <th>%</th>\n",
       "      <th>Dtype</th>\n",
       "    </tr>\n",
       "  </thead>\n",
       "  <tbody>\n",
       "    <tr>\n",
       "      <th>DurationOfPitch</th>\n",
       "      <td>251</td>\n",
       "      <td>5.1</td>\n",
       "      <td>float64</td>\n",
       "    </tr>\n",
       "    <tr>\n",
       "      <th>MonthlyIncome</th>\n",
       "      <td>232</td>\n",
       "      <td>4.8</td>\n",
       "      <td>float64</td>\n",
       "    </tr>\n",
       "    <tr>\n",
       "      <th>Age</th>\n",
       "      <td>224</td>\n",
       "      <td>4.6</td>\n",
       "      <td>float64</td>\n",
       "    </tr>\n",
       "    <tr>\n",
       "      <th>NumberOfTrips</th>\n",
       "      <td>140</td>\n",
       "      <td>2.9</td>\n",
       "      <td>float64</td>\n",
       "    </tr>\n",
       "    <tr>\n",
       "      <th>NumberOfChildrenVisiting</th>\n",
       "      <td>66</td>\n",
       "      <td>1.4</td>\n",
       "      <td>float64</td>\n",
       "    </tr>\n",
       "    <tr>\n",
       "      <th>NumberOfFollowups</th>\n",
       "      <td>45</td>\n",
       "      <td>0.9</td>\n",
       "      <td>float64</td>\n",
       "    </tr>\n",
       "    <tr>\n",
       "      <th>PreferredPropertyStar</th>\n",
       "      <td>25</td>\n",
       "      <td>0.5</td>\n",
       "      <td>float64</td>\n",
       "    </tr>\n",
       "    <tr>\n",
       "      <th>TypeofContact</th>\n",
       "      <td>25</td>\n",
       "      <td>0.5</td>\n",
       "      <td>object</td>\n",
       "    </tr>\n",
       "    <tr>\n",
       "      <th>OwnCar</th>\n",
       "      <td>0</td>\n",
       "      <td>0.0</td>\n",
       "      <td>int64</td>\n",
       "    </tr>\n",
       "    <tr>\n",
       "      <th>PitchSatisfactionScore</th>\n",
       "      <td>0</td>\n",
       "      <td>0.0</td>\n",
       "      <td>int64</td>\n",
       "    </tr>\n",
       "    <tr>\n",
       "      <th>Passport</th>\n",
       "      <td>0</td>\n",
       "      <td>0.0</td>\n",
       "      <td>int64</td>\n",
       "    </tr>\n",
       "    <tr>\n",
       "      <th>MaritalStatus</th>\n",
       "      <td>0</td>\n",
       "      <td>0.0</td>\n",
       "      <td>object</td>\n",
       "    </tr>\n",
       "    <tr>\n",
       "      <th>Designation</th>\n",
       "      <td>0</td>\n",
       "      <td>0.0</td>\n",
       "      <td>object</td>\n",
       "    </tr>\n",
       "    <tr>\n",
       "      <th>NumberOfPersonVisiting</th>\n",
       "      <td>0</td>\n",
       "      <td>0.0</td>\n",
       "      <td>int64</td>\n",
       "    </tr>\n",
       "    <tr>\n",
       "      <th>Gender</th>\n",
       "      <td>0</td>\n",
       "      <td>0.0</td>\n",
       "      <td>object</td>\n",
       "    </tr>\n",
       "    <tr>\n",
       "      <th>Occupation</th>\n",
       "      <td>0</td>\n",
       "      <td>0.0</td>\n",
       "      <td>object</td>\n",
       "    </tr>\n",
       "    <tr>\n",
       "      <th>CityTier</th>\n",
       "      <td>0</td>\n",
       "      <td>0.0</td>\n",
       "      <td>int64</td>\n",
       "    </tr>\n",
       "    <tr>\n",
       "      <th>ProductPitched</th>\n",
       "      <td>0</td>\n",
       "      <td>0.0</td>\n",
       "      <td>object</td>\n",
       "    </tr>\n",
       "  </tbody>\n",
       "</table>\n",
       "</div>"
      ],
      "text/plain": [
       "                          Total    %    Dtype\n",
       "DurationOfPitch             251  5.1  float64\n",
       "MonthlyIncome               232  4.8  float64\n",
       "Age                         224  4.6  float64\n",
       "NumberOfTrips               140  2.9  float64\n",
       "NumberOfChildrenVisiting     66  1.4  float64\n",
       "NumberOfFollowups            45  0.9  float64\n",
       "PreferredPropertyStar        25  0.5  float64\n",
       "TypeofContact                25  0.5   object\n",
       "OwnCar                        0  0.0    int64\n",
       "PitchSatisfactionScore        0  0.0    int64\n",
       "Passport                      0  0.0    int64\n",
       "MaritalStatus                 0  0.0   object\n",
       "Designation                   0  0.0   object\n",
       "NumberOfPersonVisiting        0  0.0    int64\n",
       "Gender                        0  0.0   object\n",
       "Occupation                    0  0.0   object\n",
       "CityTier                      0  0.0    int64\n",
       "ProductPitched                0  0.0   object"
      ]
     },
     "execution_count": 41,
     "metadata": {},
     "output_type": "execute_result"
    }
   ],
   "source": [
    "missing_values_calculator(X)"
   ]
  },
  {
   "cell_type": "markdown",
   "metadata": {},
   "source": [
    "### Preprocessing data in pipeline<a class=\"anchor\" id=\"19-bullet\"></a>"
   ]
  },
  {
   "cell_type": "markdown",
   "metadata": {},
   "source": [
    "#### Creating DataFrameSelector"
   ]
  },
  {
   "cell_type": "code",
   "execution_count": 42,
   "metadata": {},
   "outputs": [],
   "source": [
    "class DataFrameSelector(BaseEstimator, TransformerMixin):\n",
    "    def __init__(self, attribute_names):\n",
    "        self.attribute_names = attribute_names\n",
    "    def fit(self, X, y=None):\n",
    "        return self\n",
    "    def transform(self, X, y=None):\n",
    "        return X[self.attribute_names]"
   ]
  },
  {
   "cell_type": "markdown",
   "metadata": {},
   "source": [
    "#### Imputer strategy for numerical variables selection"
   ]
  },
  {
   "cell_type": "code",
   "execution_count": 43,
   "metadata": {},
   "outputs": [],
   "source": [
    "mean_v = []\n",
    "median_v = []\n",
    "min_v = []\n",
    "max_v = []\n",
    "skew_v = []\n",
    "kurtosis_v = []\n",
    "\n",
    "for c in continuous_variables:\n",
    "    mean_v.append(round(X[c].mean(), 2))\n",
    "    median_v.append(round(X[c].median(), 2))\n",
    "    min_v.append(round(X[c].min(), 2))\n",
    "    max_v.append(round(X[c].max(), 2))\n",
    "    skew_v.append(round(X[c].skew(), 2))\n",
    "    kurtosis_v.append(round(X[c].kurtosis(), 2))"
   ]
  },
  {
   "cell_type": "code",
   "execution_count": 44,
   "metadata": {},
   "outputs": [],
   "source": [
    "mean_v = pd.Series(mean_v, index=continuous_variables)\n",
    "median_v = pd.Series(median_v, index=continuous_variables)\n",
    "min_v = pd.Series(min_v, index=continuous_variables)\n",
    "max_v = pd.Series(max_v, index=continuous_variables)\n",
    "skew_v = pd.Series(skew_v, index=continuous_variables)\n",
    "kurtosis_v = pd.Series(kurtosis_v, index=continuous_variables)"
   ]
  },
  {
   "cell_type": "code",
   "execution_count": 45,
   "metadata": {},
   "outputs": [
    {
     "data": {
      "text/html": [
       "<div>\n",
       "<style scoped>\n",
       "    .dataframe tbody tr th:only-of-type {\n",
       "        vertical-align: middle;\n",
       "    }\n",
       "\n",
       "    .dataframe tbody tr th {\n",
       "        vertical-align: top;\n",
       "    }\n",
       "\n",
       "    .dataframe thead th {\n",
       "        text-align: right;\n",
       "    }\n",
       "</style>\n",
       "<table border=\"1\" class=\"dataframe\">\n",
       "  <thead>\n",
       "    <tr style=\"text-align: right;\">\n",
       "      <th></th>\n",
       "      <th>Mean</th>\n",
       "      <th>Median</th>\n",
       "      <th>Min</th>\n",
       "      <th>Max</th>\n",
       "      <th>Skewness</th>\n",
       "      <th>Kurtosis</th>\n",
       "    </tr>\n",
       "  </thead>\n",
       "  <tbody>\n",
       "    <tr>\n",
       "      <th>Age</th>\n",
       "      <td>37.62</td>\n",
       "      <td>36.0</td>\n",
       "      <td>18.0</td>\n",
       "      <td>61.0</td>\n",
       "      <td>0.38</td>\n",
       "      <td>-0.45</td>\n",
       "    </tr>\n",
       "    <tr>\n",
       "      <th>DurationOfPitch</th>\n",
       "      <td>15.46</td>\n",
       "      <td>13.0</td>\n",
       "      <td>6.0</td>\n",
       "      <td>36.0</td>\n",
       "      <td>0.91</td>\n",
       "      <td>-0.25</td>\n",
       "    </tr>\n",
       "    <tr>\n",
       "      <th>MonthlyIncome</th>\n",
       "      <td>23594.80</td>\n",
       "      <td>22347.0</td>\n",
       "      <td>16009.0</td>\n",
       "      <td>38677.0</td>\n",
       "      <td>1.03</td>\n",
       "      <td>0.53</td>\n",
       "    </tr>\n",
       "  </tbody>\n",
       "</table>\n",
       "</div>"
      ],
      "text/plain": [
       "                     Mean   Median      Min      Max  Skewness  Kurtosis\n",
       "Age                 37.62     36.0     18.0     61.0      0.38     -0.45\n",
       "DurationOfPitch     15.46     13.0      6.0     36.0      0.91     -0.25\n",
       "MonthlyIncome    23594.80  22347.0  16009.0  38677.0      1.03      0.53"
      ]
     },
     "execution_count": 45,
     "metadata": {},
     "output_type": "execute_result"
    }
   ],
   "source": [
    "missing_continuous_overview = pd.concat([mean_v, median_v, min_v, max_v, skew_v, kurtosis_v], \n",
    "                                        axis=1, \n",
    "                                        keys=['Mean', 'Median', 'Min', 'Max', 'Skewness', 'Kurtosis'])\n",
    "missing_continuous_overview"
   ]
  },
  {
   "cell_type": "markdown",
   "metadata": {},
   "source": [
    "If the skewness is between -0.5 and 0.5, the data are fairly symmetrical. If the skewness is between -1 and – 0.5 or between 0.5 and 1, the data are moderately skewed. If the skewness is less than -1 or greater than 1, the data are highly skewed. There is one variables with pritty much normal distribution ('Age) and one variable with moderate skewness. For the simplicity reasons I will use the median strategy for both of them. 'MonthlyIncome' won't be included as corelated with 'Age'.  \n",
    "\n",
    "I will also use most frequent strategy for binary, descrete or ordinal variables. 'NumberOfChildrenVisiting' won't be included as correlated with 'NumberOfPersonVisting'. "
   ]
  },
  {
   "cell_type": "markdown",
   "metadata": {},
   "source": [
    "#### Creating Pipelines for all types of numerical variables"
   ]
  },
  {
   "cell_type": "code",
   "execution_count": 46,
   "metadata": {},
   "outputs": [],
   "source": [
    "median_pipeline = Pipeline([\n",
    "        (\"select_numeric\", DataFrameSelector(['Age', 'DurationOfPitch'])),\n",
    "        (\"imputer\", SimpleImputer(strategy=\"median\")),\n",
    "    ])"
   ]
  },
  {
   "cell_type": "code",
   "execution_count": 47,
   "metadata": {},
   "outputs": [],
   "source": [
    "most_frequent_pipeline = Pipeline([\n",
    "        (\"select_numeric\", DataFrameSelector(['Passport', 'OwnCar', 'NumberOfPersonVisiting', 'NumberOfFollowups',\n",
    "                                              'NumberOfTrips', 'CityTier', 'PreferredPropertyStar',\n",
    "                                              'PitchSatisfactionScore'])),\n",
    "        (\"imputer\", SimpleImputer(strategy='most_frequent')),\n",
    "    ])"
   ]
  },
  {
   "cell_type": "markdown",
   "metadata": {},
   "source": [
    "#### Creating imputer and encoding categorical data"
   ]
  },
  {
   "cell_type": "code",
   "execution_count": 48,
   "metadata": {},
   "outputs": [],
   "source": [
    "class MostFrequentImputer(BaseEstimator, TransformerMixin):\n",
    "    def fit(self, X, y=None):\n",
    "        self.most_frequent_ = pd.Series([X[c].value_counts().index[0] for c in X],\n",
    "                                        index=X.columns)\n",
    "        return self\n",
    "    def transform(self, X, y=None):\n",
    "        return X.fillna(self.most_frequent_)"
   ]
  },
  {
   "cell_type": "code",
   "execution_count": 49,
   "metadata": {},
   "outputs": [],
   "source": [
    "one_hot_encoder_pipeline = Pipeline([\n",
    "        ('select_cat', DataFrameSelector(['TypeofContact', 'Occupation', 'Gender', 'ProductPitched', 'MaritalStatus',\n",
    "                                           'Designation'])),\n",
    "        ('at_encoder', OneHotEncoder(sparse=False, handle_unknown = 'ignore')),\n",
    "    ])"
   ]
  },
  {
   "cell_type": "markdown",
   "metadata": {},
   "source": [
    "### Combining all transformers together<a class=\"anchor\" id=\"20-bullet\"></a>"
   ]
  },
  {
   "cell_type": "code",
   "execution_count": 50,
   "metadata": {},
   "outputs": [],
   "source": [
    "preprocess_pipeline = FeatureUnion(transformer_list=[\n",
    "        ('median_pipeline', median_pipeline),\n",
    "        ('most_frequent_pipeline', most_frequent_pipeline),\n",
    "        ('one_hot_encoder_pipeline', one_hot_encoder_pipeline)\n",
    "    ])"
   ]
  },
  {
   "cell_type": "markdown",
   "metadata": {},
   "source": [
    "# TRAINING THE ALGORITHMS "
   ]
  },
  {
   "cell_type": "markdown",
   "metadata": {},
   "source": [
    "I initially tested all popular algorithms that can be used for a binary classification (Logistic Regression, k-Nearest Neighbors, Decision Trees, Random Forest, Extra Tree, SVM and Naive Bayes) however because the initial metrics were slightly better for Decision Tree, Random Forest, Extra Tree and SVM (both linear SVC and SVC) then i decided to work with these 5 ones.\n",
    "\n",
    "Also I decided to test all of them with scaled data too even if tree-based algorithms are fairly insensitive to the scale of variables. "
   ]
  },
  {
   "cell_type": "markdown",
   "metadata": {},
   "source": [
    "### First approach<a class=\"anchor\" id=\"22-bullet\"></a>\n",
    "- using all variables apart from two highly correlated ('NumberofChildrenVisting' and 'MonthlyIncome' have been dropped)\n",
    "- scaling the data with StanardScaler\n",
    "- using SMOTE for oversampling "
   ]
  },
  {
   "cell_type": "code",
   "execution_count": 51,
   "metadata": {},
   "outputs": [],
   "source": [
    "seed=123\n",
    "kfold = StratifiedKFold(n_splits=5)"
   ]
  },
  {
   "cell_type": "code",
   "execution_count": 52,
   "metadata": {},
   "outputs": [
    {
     "data": {
      "text/plain": [
       "{'classifier__C': 100, 'classifier__gamma': 0.1}"
      ]
     },
     "execution_count": 52,
     "metadata": {},
     "output_type": "execute_result"
    }
   ],
   "source": [
    "pipe = Pipeline([\n",
    "    ('preprocessing', preprocess_pipeline),\n",
    "    ('scaler', StandardScaler()),\n",
    "    ('over', SMOTE()),\n",
    "    ('classifier', SVC(kernel='linear'))])\n",
    "\n",
    "\n",
    "param_grid = {\n",
    "            'classifier__C': [0.001, 0.01, 0.1, 1, 10, 100],\n",
    "            'classifier__gamma': [100, 10, 1, 0.1, 0.01, 0.001, 0.0001]\n",
    "}\n",
    "\n",
    "grid_1 = GridSearchCV(pipe, param_grid, cv=kfold, n_jobs=-1)\n",
    "\n",
    "grid_1.fit(X_train, y_train)\n",
    "grid_1.best_params_"
   ]
  },
  {
   "cell_type": "code",
   "execution_count": 54,
   "metadata": {},
   "outputs": [
    {
     "data": {
      "text/plain": [
       "{'classifier__C': 0.01}"
      ]
     },
     "execution_count": 54,
     "metadata": {},
     "output_type": "execute_result"
    }
   ],
   "source": [
    "pipe = Pipeline([\n",
    "    ('preprocessing', preprocess_pipeline), \n",
    "    ('scaler', StandardScaler()),\n",
    "    ('over', SMOTE()),\n",
    "    ('classifier', LinearSVC())])\n",
    "\n",
    "\n",
    "param_grid = {\n",
    "            'classifier__C': [0.001, 0.01, 0.1, 1, 10, 100]\n",
    "}\n",
    "\n",
    "grid_2 = GridSearchCV(pipe, param_grid, cv=kfold, n_jobs=-1)\n",
    "\n",
    "grid_2.fit(X_train, y_train)\n",
    "grid_2.best_params_"
   ]
  },
  {
   "cell_type": "code",
   "execution_count": 55,
   "metadata": {},
   "outputs": [
    {
     "data": {
      "text/plain": [
       "{'classifier__min_samples_leaf': 1}"
      ]
     },
     "execution_count": 55,
     "metadata": {},
     "output_type": "execute_result"
    }
   ],
   "source": [
    "pipe = Pipeline([\n",
    "    ('preprocessing', preprocess_pipeline),\n",
    "    ('scaler', StandardScaler()),\n",
    "    ('over', SMOTE()),\n",
    "    ('classifier', DecisionTreeClassifier())])\n",
    "\n",
    "\n",
    "param_grid = {'classifier__min_samples_leaf': [1, 10, 25, 50, 100]}\n",
    "            \n",
    "\n",
    "grid_3 = GridSearchCV(pipe, param_grid, cv=kfold, n_jobs=-1)\n",
    "\n",
    "grid_3.fit(X_train, y_train)\n",
    "grid_3.best_params_"
   ]
  },
  {
   "cell_type": "code",
   "execution_count": 56,
   "metadata": {},
   "outputs": [
    {
     "data": {
      "text/plain": [
       "{'classifier__max_depth': 80, 'classifier__min_samples_leaf': 1}"
      ]
     },
     "execution_count": 56,
     "metadata": {},
     "output_type": "execute_result"
    }
   ],
   "source": [
    "pipe = Pipeline([\n",
    "    ('preprocessing', preprocess_pipeline), \n",
    "    ('scaler', StandardScaler()),\n",
    "    ('over', SMOTE()),\n",
    "    ('classifier', RandomForestClassifier())])\n",
    "\n",
    "\n",
    "param_grid = {'classifier__max_depth': [10, 20, 30, 40, 50, 60, 70, 80, 90, 100],\n",
    "             'classifier__min_samples_leaf':  [1, 10, 25, 50, 100],\n",
    "             }\n",
    "            \n",
    "\n",
    "grid_4 = GridSearchCV(pipe, param_grid, cv=kfold, n_jobs=-1)\n",
    "\n",
    "grid_4.fit(X_train, y_train)\n",
    "grid_4.best_params_"
   ]
  },
  {
   "cell_type": "code",
   "execution_count": 62,
   "metadata": {},
   "outputs": [
    {
     "data": {
      "text/plain": [
       "{'classifier__max_depth': 70, 'classifier__min_samples_leaf': 1}"
      ]
     },
     "execution_count": 62,
     "metadata": {},
     "output_type": "execute_result"
    }
   ],
   "source": [
    "pipe = Pipeline([\n",
    "    ('preprocessing', preprocess_pipeline),\n",
    "    ('scaler', StandardScaler()),\n",
    "    ('over', SMOTE()),\n",
    "    ('classifier', ExtraTreesClassifier())])\n",
    "\n",
    "param_grid = {'classifier__max_depth': [10, 20, 30, 40, 50, 60, 70, 80, 90, 100],\n",
    "             'classifier__min_samples_leaf':  [1, 10, 25, 50, 100],\n",
    "             }\n",
    "\n",
    "\n",
    "grid_5 = GridSearchCV(pipe, param_grid, cv=kfold, n_jobs=-1)\n",
    "grid_5.fit(X_train, y_train)\n",
    "grid_5.best_params_"
   ]
  },
  {
   "cell_type": "code",
   "execution_count": 151,
   "metadata": {},
   "outputs": [],
   "source": [
    "def list_models_metrics(algorithms_names, grids_best_estimator_):\n",
    "    \n",
    "    models = list(zip(algorithms_names, grids_best_estimator_))\n",
    "    return models"
   ]
  },
  {
   "cell_type": "code",
   "execution_count": 153,
   "metadata": {},
   "outputs": [],
   "source": [
    "def list_models_metrics(algorithms_names, grids_best_estimator_):\n",
    "    \n",
    "    models = list(zip(algorithms_names, grids_best_estimator_))\n",
    "    \n",
    "    precision_score = []\n",
    "    recall_score = []\n",
    "    f1_score = []\n",
    "    accuracy_score = []\n",
    "    \n",
    "    for name, model in models:\n",
    "        print(name)\n",
    "        print('precision_score: {}'.format(metrics.precision_score(y_test, model.predict(X_test)) ))\n",
    "        print('recall_score: {}'.format( metrics.recall_score(y_test, model.predict(X_test)) ))\n",
    "        print('f1_score: {}'.format( metrics.f1_score(y_test, model.predict(X_test)) ))\n",
    "        print('accuracy_score: {}'.format( metrics.accuracy_score(y_test, model.predict(X_test)) ))\n",
    "        precision_score.append(metrics.precision_score(y_test, model.predict(X_test)))\n",
    "        recall_score.append(metrics.recall_score(y_test, model.predict(X_test)))\n",
    "        f1_score.append( metrics.f1_score(y_test, model.predict(X_test)))\n",
    "        accuracy_score.append(metrics.accuracy_score(y_test, model.predict(X_test)))\n",
    "        \n",
    "    dictionary = {'precision_score': precision_score, \n",
    "                  'recall_score': recall_score, \n",
    "                  'f1_score': f1_score,\n",
    "                  'accuracy_score' : accuracy_score}\n",
    "    \n",
    "    df = pd.DataFrame(data=dictionary)\n",
    "    df.insert(loc=0, column='Method', value=algorithms_names)\n",
    "    return df\n"
   ]
  },
  {
   "cell_type": "code",
   "execution_count": 154,
   "metadata": {},
   "outputs": [
    {
     "name": "stdout",
     "output_type": "stream",
     "text": [
      "SVM EBF\n",
      "precision_score: 0.4144144144144144\n",
      "recall_score: 0.75\n",
      "f1_score: 0.5338491295938105\n",
      "accuracy_score: 0.7530737704918032\n",
      "SVM linear\n",
      "precision_score: 0.40988372093023256\n",
      "recall_score: 0.7663043478260869\n",
      "f1_score: 0.5340909090909091\n",
      "accuracy_score: 0.7479508196721312\n",
      "DTC\n",
      "precision_score: 0.7244897959183674\n",
      "recall_score: 0.7717391304347826\n",
      "f1_score: 0.7473684210526316\n",
      "accuracy_score: 0.9016393442622951\n",
      "RFC\n",
      "precision_score: 0.9166666666666666\n",
      "recall_score: 0.717391304347826\n",
      "f1_score: 0.8048780487804877\n",
      "accuracy_score: 0.9344262295081968\n",
      "ETC\n",
      "precision_score: 0.9567901234567902\n",
      "recall_score: 0.842391304347826\n",
      "f1_score: 0.8959537572254336\n",
      "accuracy_score: 0.9631147540983607\n"
     ]
    },
    {
     "data": {
      "text/html": [
       "<div>\n",
       "<style scoped>\n",
       "    .dataframe tbody tr th:only-of-type {\n",
       "        vertical-align: middle;\n",
       "    }\n",
       "\n",
       "    .dataframe tbody tr th {\n",
       "        vertical-align: top;\n",
       "    }\n",
       "\n",
       "    .dataframe thead th {\n",
       "        text-align: right;\n",
       "    }\n",
       "</style>\n",
       "<table border=\"1\" class=\"dataframe\">\n",
       "  <thead>\n",
       "    <tr style=\"text-align: right;\">\n",
       "      <th></th>\n",
       "      <th>Method</th>\n",
       "      <th>precision_score</th>\n",
       "      <th>recall_score</th>\n",
       "      <th>f1_score</th>\n",
       "      <th>accuracy_score</th>\n",
       "    </tr>\n",
       "  </thead>\n",
       "  <tbody>\n",
       "    <tr>\n",
       "      <th>0</th>\n",
       "      <td>SVM EBF</td>\n",
       "      <td>0.414414</td>\n",
       "      <td>0.750000</td>\n",
       "      <td>0.533849</td>\n",
       "      <td>0.753074</td>\n",
       "    </tr>\n",
       "    <tr>\n",
       "      <th>1</th>\n",
       "      <td>SVM linear</td>\n",
       "      <td>0.409884</td>\n",
       "      <td>0.766304</td>\n",
       "      <td>0.534091</td>\n",
       "      <td>0.747951</td>\n",
       "    </tr>\n",
       "    <tr>\n",
       "      <th>2</th>\n",
       "      <td>DTC</td>\n",
       "      <td>0.724490</td>\n",
       "      <td>0.771739</td>\n",
       "      <td>0.747368</td>\n",
       "      <td>0.901639</td>\n",
       "    </tr>\n",
       "    <tr>\n",
       "      <th>3</th>\n",
       "      <td>RFC</td>\n",
       "      <td>0.916667</td>\n",
       "      <td>0.717391</td>\n",
       "      <td>0.804878</td>\n",
       "      <td>0.934426</td>\n",
       "    </tr>\n",
       "    <tr>\n",
       "      <th>4</th>\n",
       "      <td>ETC</td>\n",
       "      <td>0.956790</td>\n",
       "      <td>0.842391</td>\n",
       "      <td>0.895954</td>\n",
       "      <td>0.963115</td>\n",
       "    </tr>\n",
       "  </tbody>\n",
       "</table>\n",
       "</div>"
      ],
      "text/plain": [
       "       Method  precision_score  recall_score  f1_score  accuracy_score\n",
       "0     SVM EBF         0.414414      0.750000  0.533849        0.753074\n",
       "1  SVM linear         0.409884      0.766304  0.534091        0.747951\n",
       "2         DTC         0.724490      0.771739  0.747368        0.901639\n",
       "3         RFC         0.916667      0.717391  0.804878        0.934426\n",
       "4         ETC         0.956790      0.842391  0.895954        0.963115"
      ]
     },
     "execution_count": 154,
     "metadata": {},
     "output_type": "execute_result"
    }
   ],
   "source": [
    "list_models_metrics(['SVM EBF','SVM linear', 'DTC', 'RFC', 'ETC'], \n",
    "                    [grid_1.best_estimator_, grid_2.best_estimator_,grid_3.best_estimator_,\n",
    "                    grid_4.best_estimator_, grid_5.best_estimator_])"
   ]
  },
  {
   "cell_type": "markdown",
   "metadata": {},
   "source": [
    "### Second approach <a class=\"anchor\" id=\"23-bullet\"></a>\n",
    "- finding important features with CHI2 (transforming categorical data to ordinal ones and using SelectBest method for selection of the best variables) \n",
    "- reducing the number of variables to ten used for training algorithms "
   ]
  },
  {
   "cell_type": "code",
   "execution_count": 87,
   "metadata": {},
   "outputs": [
    {
     "data": {
      "text/html": [
       "<div>\n",
       "<style scoped>\n",
       "    .dataframe tbody tr th:only-of-type {\n",
       "        vertical-align: middle;\n",
       "    }\n",
       "\n",
       "    .dataframe tbody tr th {\n",
       "        vertical-align: top;\n",
       "    }\n",
       "\n",
       "    .dataframe thead th {\n",
       "        text-align: right;\n",
       "    }\n",
       "</style>\n",
       "<table border=\"1\" class=\"dataframe\">\n",
       "  <thead>\n",
       "    <tr style=\"text-align: right;\">\n",
       "      <th></th>\n",
       "      <th>Age</th>\n",
       "      <th>TypeofContact</th>\n",
       "      <th>CityTier</th>\n",
       "      <th>DurationOfPitch</th>\n",
       "      <th>Occupation</th>\n",
       "      <th>Gender</th>\n",
       "      <th>NumberOfPersonVisiting</th>\n",
       "      <th>NumberOfFollowups</th>\n",
       "      <th>ProductPitched</th>\n",
       "      <th>PreferredPropertyStar</th>\n",
       "      <th>MaritalStatus</th>\n",
       "      <th>NumberOfTrips</th>\n",
       "      <th>Passport</th>\n",
       "      <th>PitchSatisfactionScore</th>\n",
       "      <th>OwnCar</th>\n",
       "      <th>Designation</th>\n",
       "    </tr>\n",
       "  </thead>\n",
       "  <tbody>\n",
       "    <tr>\n",
       "      <th>0</th>\n",
       "      <td>41.0</td>\n",
       "      <td>2</td>\n",
       "      <td>3</td>\n",
       "      <td>6.0</td>\n",
       "      <td>2</td>\n",
       "      <td>0</td>\n",
       "      <td>3</td>\n",
       "      <td>3.0</td>\n",
       "      <td>1</td>\n",
       "      <td>3.0</td>\n",
       "      <td>2</td>\n",
       "      <td>1.0</td>\n",
       "      <td>1</td>\n",
       "      <td>2</td>\n",
       "      <td>1</td>\n",
       "      <td>2</td>\n",
       "    </tr>\n",
       "    <tr>\n",
       "      <th>1</th>\n",
       "      <td>49.0</td>\n",
       "      <td>1</td>\n",
       "      <td>1</td>\n",
       "      <td>14.0</td>\n",
       "      <td>2</td>\n",
       "      <td>1</td>\n",
       "      <td>3</td>\n",
       "      <td>4.0</td>\n",
       "      <td>1</td>\n",
       "      <td>4.0</td>\n",
       "      <td>0</td>\n",
       "      <td>2.0</td>\n",
       "      <td>0</td>\n",
       "      <td>3</td>\n",
       "      <td>1</td>\n",
       "      <td>2</td>\n",
       "    </tr>\n",
       "    <tr>\n",
       "      <th>2</th>\n",
       "      <td>37.0</td>\n",
       "      <td>2</td>\n",
       "      <td>1</td>\n",
       "      <td>8.0</td>\n",
       "      <td>0</td>\n",
       "      <td>1</td>\n",
       "      <td>3</td>\n",
       "      <td>4.0</td>\n",
       "      <td>0</td>\n",
       "      <td>3.0</td>\n",
       "      <td>2</td>\n",
       "      <td>7.0</td>\n",
       "      <td>1</td>\n",
       "      <td>3</td>\n",
       "      <td>0</td>\n",
       "      <td>1</td>\n",
       "    </tr>\n",
       "    <tr>\n",
       "      <th>3</th>\n",
       "      <td>33.0</td>\n",
       "      <td>1</td>\n",
       "      <td>1</td>\n",
       "      <td>9.0</td>\n",
       "      <td>2</td>\n",
       "      <td>0</td>\n",
       "      <td>2</td>\n",
       "      <td>3.0</td>\n",
       "      <td>0</td>\n",
       "      <td>3.0</td>\n",
       "      <td>0</td>\n",
       "      <td>2.0</td>\n",
       "      <td>1</td>\n",
       "      <td>5</td>\n",
       "      <td>1</td>\n",
       "      <td>1</td>\n",
       "    </tr>\n",
       "    <tr>\n",
       "      <th>4</th>\n",
       "      <td>1.0</td>\n",
       "      <td>2</td>\n",
       "      <td>1</td>\n",
       "      <td>8.0</td>\n",
       "      <td>3</td>\n",
       "      <td>1</td>\n",
       "      <td>2</td>\n",
       "      <td>3.0</td>\n",
       "      <td>0</td>\n",
       "      <td>4.0</td>\n",
       "      <td>0</td>\n",
       "      <td>1.0</td>\n",
       "      <td>0</td>\n",
       "      <td>5</td>\n",
       "      <td>1</td>\n",
       "      <td>1</td>\n",
       "    </tr>\n",
       "  </tbody>\n",
       "</table>\n",
       "</div>"
      ],
      "text/plain": [
       "    Age  TypeofContact  CityTier  DurationOfPitch  Occupation  Gender  \\\n",
       "0  41.0              2         3              6.0           2       0   \n",
       "1  49.0              1         1             14.0           2       1   \n",
       "2  37.0              2         1              8.0           0       1   \n",
       "3  33.0              1         1              9.0           2       0   \n",
       "4   1.0              2         1              8.0           3       1   \n",
       "\n",
       "   NumberOfPersonVisiting  NumberOfFollowups  ProductPitched  \\\n",
       "0                       3                3.0               1   \n",
       "1                       3                4.0               1   \n",
       "2                       3                4.0               0   \n",
       "3                       2                3.0               0   \n",
       "4                       2                3.0               0   \n",
       "\n",
       "   PreferredPropertyStar  MaritalStatus  NumberOfTrips  Passport  \\\n",
       "0                    3.0              2            1.0         1   \n",
       "1                    4.0              0            2.0         0   \n",
       "2                    3.0              2            7.0         1   \n",
       "3                    3.0              0            2.0         1   \n",
       "4                    4.0              0            1.0         0   \n",
       "\n",
       "   PitchSatisfactionScore  OwnCar  Designation  \n",
       "0                       2       1            2  \n",
       "1                       3       1            2  \n",
       "2                       3       0            1  \n",
       "3                       5       1            1  \n",
       "4                       5       1            1  "
      ]
     },
     "execution_count": 87,
     "metadata": {},
     "output_type": "execute_result"
    }
   ],
   "source": [
    "data_num = X.copy().fillna(1)\n",
    "data_num.drop(['MonthlyIncome', 'NumberOfChildrenVisiting'], axis=1, inplace=True)\n",
    "for c in categorical_variables:\n",
    "    data_num[c] = data_num[c].astype('category').cat.codes\n",
    "data_num.head()"
   ]
  },
  {
   "cell_type": "code",
   "execution_count": 88,
   "metadata": {},
   "outputs": [
    {
     "data": {
      "text/html": [
       "<div>\n",
       "<style scoped>\n",
       "    .dataframe tbody tr th:only-of-type {\n",
       "        vertical-align: middle;\n",
       "    }\n",
       "\n",
       "    .dataframe tbody tr th {\n",
       "        vertical-align: top;\n",
       "    }\n",
       "\n",
       "    .dataframe thead th {\n",
       "        text-align: right;\n",
       "    }\n",
       "</style>\n",
       "<table border=\"1\" class=\"dataframe\">\n",
       "  <thead>\n",
       "    <tr style=\"text-align: right;\">\n",
       "      <th></th>\n",
       "      <th>0</th>\n",
       "      <th>1</th>\n",
       "    </tr>\n",
       "  </thead>\n",
       "  <tbody>\n",
       "    <tr>\n",
       "      <th>0</th>\n",
       "      <td>243.831179</td>\n",
       "      <td>Age</td>\n",
       "    </tr>\n",
       "    <tr>\n",
       "      <th>12</th>\n",
       "      <td>236.805803</td>\n",
       "      <td>Passport</td>\n",
       "    </tr>\n",
       "    <tr>\n",
       "      <th>8</th>\n",
       "      <td>174.988202</td>\n",
       "      <td>ProductPitched</td>\n",
       "    </tr>\n",
       "    <tr>\n",
       "      <th>3</th>\n",
       "      <td>146.820851</td>\n",
       "      <td>DurationOfPitch</td>\n",
       "    </tr>\n",
       "    <tr>\n",
       "      <th>10</th>\n",
       "      <td>59.418514</td>\n",
       "      <td>MaritalStatus</td>\n",
       "    </tr>\n",
       "    <tr>\n",
       "      <th>15</th>\n",
       "      <td>24.561240</td>\n",
       "      <td>Designation</td>\n",
       "    </tr>\n",
       "    <tr>\n",
       "      <th>2</th>\n",
       "      <td>18.739539</td>\n",
       "      <td>CityTier</td>\n",
       "    </tr>\n",
       "    <tr>\n",
       "      <th>7</th>\n",
       "      <td>16.646631</td>\n",
       "      <td>NumberOfFollowups</td>\n",
       "    </tr>\n",
       "    <tr>\n",
       "      <th>9</th>\n",
       "      <td>8.153316</td>\n",
       "      <td>PreferredPropertyStar</td>\n",
       "    </tr>\n",
       "    <tr>\n",
       "      <th>13</th>\n",
       "      <td>7.828429</td>\n",
       "      <td>PitchSatisfactionScore</td>\n",
       "    </tr>\n",
       "    <tr>\n",
       "      <th>11</th>\n",
       "      <td>3.905715</td>\n",
       "      <td>NumberOfTrips</td>\n",
       "    </tr>\n",
       "    <tr>\n",
       "      <th>5</th>\n",
       "      <td>1.905822</td>\n",
       "      <td>Gender</td>\n",
       "    </tr>\n",
       "    <tr>\n",
       "      <th>4</th>\n",
       "      <td>1.465455</td>\n",
       "      <td>Occupation</td>\n",
       "    </tr>\n",
       "    <tr>\n",
       "      <th>1</th>\n",
       "      <td>1.235222</td>\n",
       "      <td>TypeofContact</td>\n",
       "    </tr>\n",
       "    <tr>\n",
       "      <th>14</th>\n",
       "      <td>0.258535</td>\n",
       "      <td>OwnCar</td>\n",
       "    </tr>\n",
       "    <tr>\n",
       "      <th>6</th>\n",
       "      <td>0.066795</td>\n",
       "      <td>NumberOfPersonVisiting</td>\n",
       "    </tr>\n",
       "  </tbody>\n",
       "</table>\n",
       "</div>"
      ],
      "text/plain": [
       "             0                       1\n",
       "0   243.831179                     Age\n",
       "12  236.805803                Passport\n",
       "8   174.988202          ProductPitched\n",
       "3   146.820851         DurationOfPitch\n",
       "10   59.418514           MaritalStatus\n",
       "15   24.561240             Designation\n",
       "2    18.739539                CityTier\n",
       "7    16.646631       NumberOfFollowups\n",
       "9     8.153316   PreferredPropertyStar\n",
       "13    7.828429  PitchSatisfactionScore\n",
       "11    3.905715           NumberOfTrips\n",
       "5     1.905822                  Gender\n",
       "4     1.465455              Occupation\n",
       "1     1.235222           TypeofContact\n",
       "14    0.258535                  OwnCar\n",
       "6     0.066795  NumberOfPersonVisiting"
      ]
     },
     "execution_count": 88,
     "metadata": {},
     "output_type": "execute_result"
    }
   ],
   "source": [
    "from sklearn.feature_selection import SelectKBest\n",
    "from sklearn.feature_selection import chi2\n",
    "list_one =[]\n",
    "feature_ranking = SelectKBest(chi2, k=5)\n",
    "fit = feature_ranking.fit(data_num, y)\n",
    "\n",
    "for i, (score, feature) in enumerate(zip(feature_ranking.scores_, data_num.columns)):\n",
    "    list_one.append((score, feature))\n",
    "    \n",
    "dfObj = pd.DataFrame(list_one) \n",
    "dfObj.sort_values(by=[0], ascending = False)"
   ]
  },
  {
   "cell_type": "markdown",
   "metadata": {},
   "source": [
    "I will go with 10 variables only: 'Age', 'Passport', 'ProductPitched', 'DurationOfPitch', 'MaritalStatus', 'Designation', 'CityTier', 'NumberOfFollowups', 'PreferredPropertyStar' and PitchSatisfactionScore."
   ]
  },
  {
   "cell_type": "markdown",
   "metadata": {},
   "source": [
    "#### Creating Pipelines for important variables only"
   ]
  },
  {
   "cell_type": "code",
   "execution_count": 89,
   "metadata": {},
   "outputs": [],
   "source": [
    "median_pipeline_2 = Pipeline([\n",
    "        (\"select_numeric\", DataFrameSelector(['Age', 'DurationOfPitch'])),\n",
    "        (\"imputer\", SimpleImputer(strategy=\"median\")),\n",
    "    ])   "
   ]
  },
  {
   "cell_type": "code",
   "execution_count": 90,
   "metadata": {},
   "outputs": [],
   "source": [
    "most_frequent_pipeline_2 = Pipeline([\n",
    "        (\"select_numeric\", DataFrameSelector(['Passport', 'CityTier', 'NumberOfFollowups', 'PreferredPropertyStar',\n",
    "                                              'PitchSatisfactionScore'])),\n",
    "        (\"imputer\", SimpleImputer(strategy='most_frequent')),\n",
    "    ])"
   ]
  },
  {
   "cell_type": "code",
   "execution_count": 91,
   "metadata": {},
   "outputs": [],
   "source": [
    "one_hot_encoder_pipeline_2 = Pipeline([\n",
    "        ('select_cat', DataFrameSelector(['ProductPitched','MaritalStatus','Designation' ])),\n",
    "        ('at_encoder', OneHotEncoder(sparse=False, handle_unknown = 'ignore')),\n",
    "    ])"
   ]
  },
  {
   "cell_type": "code",
   "execution_count": 92,
   "metadata": {},
   "outputs": [],
   "source": [
    "preprocess_pipeline_2 = FeatureUnion(transformer_list=[\n",
    "        ('median_pipeline', median_pipeline),\n",
    "        ('most_frequent_pipeline', most_frequent_pipeline),\n",
    "        ('one_hot_encoder_pipeline', one_hot_encoder_pipeline)\n",
    "    ])"
   ]
  },
  {
   "cell_type": "markdown",
   "metadata": {},
   "source": [
    "#### Training algorithms with important variables only"
   ]
  },
  {
   "cell_type": "code",
   "execution_count": 93,
   "metadata": {},
   "outputs": [
    {
     "data": {
      "text/plain": [
       "{'classifier__C': 100, 'classifier__gamma': 10}"
      ]
     },
     "execution_count": 93,
     "metadata": {},
     "output_type": "execute_result"
    }
   ],
   "source": [
    "pipe = Pipeline([\n",
    "    ('preprocessing', preprocess_pipeline_2),\n",
    "    ('scaler', StandardScaler()),\n",
    "    ('over', SMOTE()),\n",
    "    ('classifier', SVC(kernel='linear'))])\n",
    "\n",
    "\n",
    "param_grid = {\n",
    "            'classifier__C': [0.001, 0.01, 0.1, 1, 10, 100],\n",
    "            'classifier__gamma': [100, 10, 1, 0.1, 0.01, 0.001, 0.0001]\n",
    "}\n",
    "\n",
    "grid_6 = GridSearchCV(pipe, param_grid, cv=kfold, n_jobs=-1)\n",
    "\n",
    "grid_6.fit(X_train, y_train)\n",
    "grid_6.best_params_"
   ]
  },
  {
   "cell_type": "code",
   "execution_count": 95,
   "metadata": {},
   "outputs": [
    {
     "data": {
      "text/plain": [
       "{'classifier__C': 0.1}"
      ]
     },
     "execution_count": 95,
     "metadata": {},
     "output_type": "execute_result"
    }
   ],
   "source": [
    "pipe = Pipeline([\n",
    "    ('preprocessing', preprocess_pipeline_2), \n",
    "    ('scaler', StandardScaler()),\n",
    "    ('over', SMOTE()),\n",
    "    ('classifier', LinearSVC())])\n",
    "\n",
    "\n",
    "param_grid = {\n",
    "            'classifier__C': [0.001, 0.01, 0.1, 1, 10, 100]\n",
    "}\n",
    "\n",
    "grid_7 = GridSearchCV(pipe, param_grid, cv=kfold, n_jobs=-1)\n",
    "\n",
    "grid_7.fit(X_train, y_train)\n",
    "grid_7.best_params_"
   ]
  },
  {
   "cell_type": "code",
   "execution_count": 96,
   "metadata": {},
   "outputs": [
    {
     "data": {
      "text/plain": [
       "{'classifier__min_samples_leaf': 1}"
      ]
     },
     "execution_count": 96,
     "metadata": {},
     "output_type": "execute_result"
    }
   ],
   "source": [
    "pipe = Pipeline([\n",
    "    ('preprocessing', preprocess_pipeline_2),\n",
    "    ('scaler', StandardScaler()),\n",
    "    ('over', SMOTE()),\n",
    "    ('classifier', DecisionTreeClassifier())])\n",
    "\n",
    "\n",
    "param_grid = {'classifier__min_samples_leaf': [1, 10, 25, 50, 100]}\n",
    "            \n",
    "\n",
    "grid_8 = GridSearchCV(pipe, param_grid, cv=kfold, n_jobs=-1)\n",
    "\n",
    "grid_8.fit(X_train, y_train)\n",
    "grid_8.best_params_"
   ]
  },
  {
   "cell_type": "code",
   "execution_count": 97,
   "metadata": {},
   "outputs": [
    {
     "data": {
      "text/plain": [
       "{'classifier__max_depth': 70, 'classifier__min_samples_leaf': 1}"
      ]
     },
     "execution_count": 97,
     "metadata": {},
     "output_type": "execute_result"
    }
   ],
   "source": [
    "pipe = Pipeline([\n",
    "    ('preprocessing', preprocess_pipeline_2), \n",
    "    ('scaler', StandardScaler()),\n",
    "    ('over', SMOTE()),\n",
    "    ('classifier', RandomForestClassifier())])\n",
    "\n",
    "\n",
    "param_grid = {'classifier__max_depth': [10, 20, 30, 40, 50, 60, 70, 80, 90, 100],\n",
    "             'classifier__min_samples_leaf':  [1, 10, 25, 50, 100],\n",
    "             }\n",
    "            \n",
    "\n",
    "grid_9 = GridSearchCV(pipe, param_grid, cv=kfold, n_jobs=-1)\n",
    "\n",
    "grid_9.fit(X_train, y_train)\n",
    "grid_9.best_params_"
   ]
  },
  {
   "cell_type": "code",
   "execution_count": 98,
   "metadata": {},
   "outputs": [
    {
     "data": {
      "text/plain": [
       "{'classifier__max_depth': 70, 'classifier__min_samples_leaf': 1}"
      ]
     },
     "execution_count": 98,
     "metadata": {},
     "output_type": "execute_result"
    }
   ],
   "source": [
    "pipe = Pipeline([\n",
    "    ('preprocessing', preprocess_pipeline_2),\n",
    "    ('scaler', StandardScaler()),\n",
    "    ('over', SMOTE()),\n",
    "    ('classifier', ExtraTreesClassifier())])\n",
    "\n",
    "param_grid = {'classifier__max_depth': [10, 20, 30, 40, 50, 60, 70, 80, 90, 100],\n",
    "             'classifier__min_samples_leaf':  [1, 10, 25, 50, 100],\n",
    "             }\n",
    "\n",
    "\n",
    "grid_10 = GridSearchCV(pipe, param_grid, cv=kfold, n_jobs=-1)\n",
    "grid_10.fit(X_train, y_train)\n",
    "grid_10.best_params_"
   ]
  },
  {
   "cell_type": "code",
   "execution_count": 155,
   "metadata": {},
   "outputs": [
    {
     "name": "stdout",
     "output_type": "stream",
     "text": [
      "SVM EBF WITH DR\n",
      "precision_score: 0.4212121212121212\n",
      "recall_score: 0.7554347826086957\n",
      "f1_score: 0.5408560311284046\n",
      "accuracy_score: 0.7581967213114754\n",
      "SVM linear WITH DR\n",
      "precision_score: 0.3976945244956772\n",
      "recall_score: 0.75\n",
      "f1_score: 0.5197740112994351\n",
      "accuracy_score: 0.7387295081967213\n",
      "DTC WITH DR\n",
      "precision_score: 0.7295918367346939\n",
      "recall_score: 0.7771739130434783\n",
      "f1_score: 0.7526315789473684\n",
      "accuracy_score: 0.9036885245901639\n",
      "RFC WITH DR\n",
      "precision_score: 0.8958333333333334\n",
      "recall_score: 0.7010869565217391\n",
      "f1_score: 0.7865853658536586\n",
      "accuracy_score: 0.9282786885245902\n",
      "ETC WITH DR\n",
      "precision_score: 0.9634146341463414\n",
      "recall_score: 0.8586956521739131\n",
      "f1_score: 0.9080459770114943\n",
      "accuracy_score: 0.9672131147540983\n"
     ]
    },
    {
     "data": {
      "text/html": [
       "<div>\n",
       "<style scoped>\n",
       "    .dataframe tbody tr th:only-of-type {\n",
       "        vertical-align: middle;\n",
       "    }\n",
       "\n",
       "    .dataframe tbody tr th {\n",
       "        vertical-align: top;\n",
       "    }\n",
       "\n",
       "    .dataframe thead th {\n",
       "        text-align: right;\n",
       "    }\n",
       "</style>\n",
       "<table border=\"1\" class=\"dataframe\">\n",
       "  <thead>\n",
       "    <tr style=\"text-align: right;\">\n",
       "      <th></th>\n",
       "      <th>Method</th>\n",
       "      <th>precision_score</th>\n",
       "      <th>recall_score</th>\n",
       "      <th>f1_score</th>\n",
       "      <th>accuracy_score</th>\n",
       "    </tr>\n",
       "  </thead>\n",
       "  <tbody>\n",
       "    <tr>\n",
       "      <th>0</th>\n",
       "      <td>SVM EBF WITH DR</td>\n",
       "      <td>0.421212</td>\n",
       "      <td>0.755435</td>\n",
       "      <td>0.540856</td>\n",
       "      <td>0.758197</td>\n",
       "    </tr>\n",
       "    <tr>\n",
       "      <th>1</th>\n",
       "      <td>SVM linear WITH DR</td>\n",
       "      <td>0.397695</td>\n",
       "      <td>0.750000</td>\n",
       "      <td>0.519774</td>\n",
       "      <td>0.738730</td>\n",
       "    </tr>\n",
       "    <tr>\n",
       "      <th>2</th>\n",
       "      <td>DTC WITH DR</td>\n",
       "      <td>0.729592</td>\n",
       "      <td>0.777174</td>\n",
       "      <td>0.752632</td>\n",
       "      <td>0.903689</td>\n",
       "    </tr>\n",
       "    <tr>\n",
       "      <th>3</th>\n",
       "      <td>RFC WITH DR</td>\n",
       "      <td>0.895833</td>\n",
       "      <td>0.701087</td>\n",
       "      <td>0.786585</td>\n",
       "      <td>0.928279</td>\n",
       "    </tr>\n",
       "    <tr>\n",
       "      <th>4</th>\n",
       "      <td>ETC WITH DR</td>\n",
       "      <td>0.963415</td>\n",
       "      <td>0.858696</td>\n",
       "      <td>0.908046</td>\n",
       "      <td>0.967213</td>\n",
       "    </tr>\n",
       "  </tbody>\n",
       "</table>\n",
       "</div>"
      ],
      "text/plain": [
       "               Method  precision_score  recall_score  f1_score  accuracy_score\n",
       "0     SVM EBF WITH DR         0.421212      0.755435  0.540856        0.758197\n",
       "1  SVM linear WITH DR         0.397695      0.750000  0.519774        0.738730\n",
       "2         DTC WITH DR         0.729592      0.777174  0.752632        0.903689\n",
       "3         RFC WITH DR         0.895833      0.701087  0.786585        0.928279\n",
       "4         ETC WITH DR         0.963415      0.858696  0.908046        0.967213"
      ]
     },
     "execution_count": 155,
     "metadata": {},
     "output_type": "execute_result"
    }
   ],
   "source": [
    "list_models_metrics(['SVM EBF WITH DR', 'SVM linear WITH DR','DTC WITH DR', 'RFC WITH DR', 'ETC WITH DR'], \n",
    "                    [grid_6.best_estimator_, grid_7.best_estimator_,grid_8.best_estimator_,\n",
    "                     grid_9.best_estimator_, grid_10.best_estimator_])"
   ]
  },
  {
   "cell_type": "markdown",
   "metadata": {},
   "source": [
    "### Third approach<a class=\"anchor\" id=\"24-bullet\"></a>\n",
    "- dropping SVM as still achieving worse results \n",
    "- dropping scaling for tree-based algorithms "
   ]
  },
  {
   "cell_type": "code",
   "execution_count": 130,
   "metadata": {},
   "outputs": [
    {
     "data": {
      "text/plain": [
       "{'classifier__min_samples_leaf': 1}"
      ]
     },
     "execution_count": 130,
     "metadata": {},
     "output_type": "execute_result"
    }
   ],
   "source": [
    "pipe = Pipeline([\n",
    "    ('preprocessing', preprocess_pipeline_2),\n",
    "    ('over', SMOTE()),\n",
    "    ('classifier', DecisionTreeClassifier())])\n",
    "\n",
    "\n",
    "param_grid = {'classifier__min_samples_leaf': [1, 10, 25, 50, 100]}\n",
    "            \n",
    "\n",
    "grid_11 = GridSearchCV(pipe, param_grid, cv=kfold, n_jobs=-1)\n",
    "\n",
    "grid_11.fit(X_train, y_train)\n",
    "grid_11.best_params_"
   ]
  },
  {
   "cell_type": "code",
   "execution_count": 131,
   "metadata": {},
   "outputs": [
    {
     "data": {
      "text/plain": [
       "{'classifier__max_depth': 70, 'classifier__min_samples_leaf': 1}"
      ]
     },
     "execution_count": 131,
     "metadata": {},
     "output_type": "execute_result"
    }
   ],
   "source": [
    "pipe = Pipeline([\n",
    "    ('preprocessing', preprocess_pipeline_2), \n",
    "    ('over', SMOTE()),\n",
    "    ('classifier', RandomForestClassifier())])\n",
    "\n",
    "\n",
    "param_grid = {'classifier__max_depth': [10, 20, 30, 40, 50, 60, 70, 80, 90, 100],\n",
    "             'classifier__min_samples_leaf':  [1, 10, 25, 50, 100],\n",
    "             }\n",
    "            \n",
    "\n",
    "grid_12 = GridSearchCV(pipe, param_grid, cv=kfold, n_jobs=-1)\n",
    "\n",
    "grid_12.fit(X_train, y_train)\n",
    "grid_12.best_params_"
   ]
  },
  {
   "cell_type": "code",
   "execution_count": 132,
   "metadata": {},
   "outputs": [
    {
     "data": {
      "text/plain": [
       "{'classifier__max_depth': 50, 'classifier__min_samples_leaf': 1}"
      ]
     },
     "execution_count": 132,
     "metadata": {},
     "output_type": "execute_result"
    }
   ],
   "source": [
    "from sklearn.ensemble import ExtraTreesClassifier\n",
    "pipe = Pipeline([\n",
    "    ('preprocessing', preprocess_pipeline_2),\n",
    "    ('over', SMOTE()),\n",
    "    ('classifier', ExtraTreesClassifier())])\n",
    "\n",
    "param_grid = {'classifier__max_depth': [10, 20, 30, 40, 50, 60, 70, 80, 90, 100],\n",
    "             'classifier__min_samples_leaf':  [1, 10, 25, 50, 100],\n",
    "             }\n",
    "\n",
    "\n",
    "grid_13 = GridSearchCV(pipe, param_grid, cv=kfold, n_jobs=-1)\n",
    "grid_13.fit(X_train, y_train)\n",
    "grid_13.best_params_"
   ]
  },
  {
   "cell_type": "code",
   "execution_count": 157,
   "metadata": {},
   "outputs": [
    {
     "name": "stdout",
     "output_type": "stream",
     "text": [
      "DTC without SC\n",
      "precision_score: 0.7828282828282829\n",
      "recall_score: 0.842391304347826\n",
      "f1_score: 0.8115183246073299\n",
      "accuracy_score: 0.9262295081967213\n",
      "RFC without SC\n",
      "precision_score: 0.9435483870967742\n",
      "recall_score: 0.6358695652173914\n",
      "f1_score: 0.7597402597402597\n",
      "accuracy_score: 0.9241803278688525\n",
      "ETC without SC\n",
      "precision_score: 0.961038961038961\n",
      "recall_score: 0.8043478260869565\n",
      "f1_score: 0.8757396449704141\n",
      "accuracy_score: 0.9569672131147541\n"
     ]
    },
    {
     "data": {
      "text/html": [
       "<div>\n",
       "<style scoped>\n",
       "    .dataframe tbody tr th:only-of-type {\n",
       "        vertical-align: middle;\n",
       "    }\n",
       "\n",
       "    .dataframe tbody tr th {\n",
       "        vertical-align: top;\n",
       "    }\n",
       "\n",
       "    .dataframe thead th {\n",
       "        text-align: right;\n",
       "    }\n",
       "</style>\n",
       "<table border=\"1\" class=\"dataframe\">\n",
       "  <thead>\n",
       "    <tr style=\"text-align: right;\">\n",
       "      <th></th>\n",
       "      <th>Method</th>\n",
       "      <th>precision_score</th>\n",
       "      <th>recall_score</th>\n",
       "      <th>f1_score</th>\n",
       "      <th>accuracy_score</th>\n",
       "    </tr>\n",
       "  </thead>\n",
       "  <tbody>\n",
       "    <tr>\n",
       "      <th>0</th>\n",
       "      <td>DTC without SC</td>\n",
       "      <td>0.782828</td>\n",
       "      <td>0.842391</td>\n",
       "      <td>0.811518</td>\n",
       "      <td>0.926230</td>\n",
       "    </tr>\n",
       "    <tr>\n",
       "      <th>1</th>\n",
       "      <td>RFC without SC</td>\n",
       "      <td>0.943548</td>\n",
       "      <td>0.635870</td>\n",
       "      <td>0.759740</td>\n",
       "      <td>0.924180</td>\n",
       "    </tr>\n",
       "    <tr>\n",
       "      <th>2</th>\n",
       "      <td>ETC without SC</td>\n",
       "      <td>0.961039</td>\n",
       "      <td>0.804348</td>\n",
       "      <td>0.875740</td>\n",
       "      <td>0.956967</td>\n",
       "    </tr>\n",
       "  </tbody>\n",
       "</table>\n",
       "</div>"
      ],
      "text/plain": [
       "           Method  precision_score  recall_score  f1_score  accuracy_score\n",
       "0  DTC without SC         0.782828      0.842391  0.811518        0.926230\n",
       "1  RFC without SC         0.943548      0.635870  0.759740        0.924180\n",
       "2  ETC without SC         0.961039      0.804348  0.875740        0.956967"
      ]
     },
     "execution_count": 157,
     "metadata": {},
     "output_type": "execute_result"
    }
   ],
   "source": [
    "list_models_metrics(['DTC without SC', 'RFC without SC', 'ETC without SC'], \n",
    "                    [grid_11.best_estimator_, grid_12.best_estimator_,grid_13.best_estimator_])"
   ]
  },
  {
   "cell_type": "markdown",
   "metadata": {},
   "source": [
    "### Fourth approach<a class=\"anchor\" id=\"25-bullet\"></a>\n",
    "- dropping SMOTE method "
   ]
  },
  {
   "cell_type": "code",
   "execution_count": 139,
   "metadata": {},
   "outputs": [
    {
     "data": {
      "text/plain": [
       "{'classifier__min_samples_leaf': 1}"
      ]
     },
     "execution_count": 139,
     "metadata": {},
     "output_type": "execute_result"
    }
   ],
   "source": [
    "pipe = Pipeline([\n",
    "    ('preprocessing', preprocess_pipeline_2),\n",
    "    ('classifier', DecisionTreeClassifier())])\n",
    "\n",
    "\n",
    "param_grid = {'classifier__min_samples_leaf': [1, 10, 25, 50, 100]}\n",
    "            \n",
    "\n",
    "grid_14 = GridSearchCV(pipe, param_grid, cv=kfold, n_jobs=-1)\n",
    "\n",
    "grid_14.fit(X_train, y_train)\n",
    "grid_14.best_params_"
   ]
  },
  {
   "cell_type": "code",
   "execution_count": 140,
   "metadata": {},
   "outputs": [
    {
     "data": {
      "text/plain": [
       "{'classifier__max_depth': 40, 'classifier__min_samples_leaf': 1}"
      ]
     },
     "execution_count": 140,
     "metadata": {},
     "output_type": "execute_result"
    }
   ],
   "source": [
    "pipe = Pipeline([\n",
    "    ('preprocessing', preprocess_pipeline_2), \n",
    "    ('classifier', RandomForestClassifier())])\n",
    "\n",
    "\n",
    "param_grid = {'classifier__max_depth': [10, 20, 30, 40, 50, 60, 70, 80, 90, 100],\n",
    "             'classifier__min_samples_leaf':  [1, 10, 25, 50, 100],\n",
    "             }\n",
    "            \n",
    "\n",
    "grid_15 = GridSearchCV(pipe, param_grid, cv=kfold, n_jobs=-1)\n",
    "\n",
    "grid_15.fit(X_train, y_train)\n",
    "grid_15.best_params_"
   ]
  },
  {
   "cell_type": "code",
   "execution_count": 141,
   "metadata": {},
   "outputs": [
    {
     "data": {
      "text/plain": [
       "{'classifier__max_depth': 40, 'classifier__min_samples_leaf': 1}"
      ]
     },
     "execution_count": 141,
     "metadata": {},
     "output_type": "execute_result"
    }
   ],
   "source": [
    "pipe = Pipeline([\n",
    "    ('preprocessing', preprocess_pipeline_2),\n",
    "    ('classifier', ExtraTreesClassifier())])\n",
    "\n",
    "param_grid = {'classifier__max_depth': [10, 20, 30, 40, 50, 60, 70, 80, 90, 100],\n",
    "             'classifier__min_samples_leaf':  [1, 10, 25, 50, 100],\n",
    "             }\n",
    "\n",
    "\n",
    "grid_16 = GridSearchCV(pipe, param_grid, cv=kfold, n_jobs=-1)\n",
    "grid_16.fit(X_train, y_train)\n",
    "grid_16.best_params_"
   ]
  },
  {
   "cell_type": "code",
   "execution_count": 158,
   "metadata": {},
   "outputs": [
    {
     "name": "stdout",
     "output_type": "stream",
     "text": [
      "DTC without SMOTE\n",
      "precision_score: 0.8225806451612904\n",
      "recall_score: 0.8315217391304348\n",
      "f1_score: 0.8270270270270271\n",
      "accuracy_score: 0.9344262295081968\n",
      "RFC without SMOTE\n",
      "precision_score: 0.9782608695652174\n",
      "recall_score: 0.7336956521739131\n",
      "f1_score: 0.8385093167701865\n",
      "accuracy_score: 0.9467213114754098\n",
      "ETC without SMOTE\n",
      "precision_score: 0.9802631578947368\n",
      "recall_score: 0.8097826086956522\n",
      "f1_score: 0.8869047619047619\n",
      "accuracy_score: 0.9610655737704918\n"
     ]
    },
    {
     "data": {
      "text/html": [
       "<div>\n",
       "<style scoped>\n",
       "    .dataframe tbody tr th:only-of-type {\n",
       "        vertical-align: middle;\n",
       "    }\n",
       "\n",
       "    .dataframe tbody tr th {\n",
       "        vertical-align: top;\n",
       "    }\n",
       "\n",
       "    .dataframe thead th {\n",
       "        text-align: right;\n",
       "    }\n",
       "</style>\n",
       "<table border=\"1\" class=\"dataframe\">\n",
       "  <thead>\n",
       "    <tr style=\"text-align: right;\">\n",
       "      <th></th>\n",
       "      <th>Method</th>\n",
       "      <th>precision_score</th>\n",
       "      <th>recall_score</th>\n",
       "      <th>f1_score</th>\n",
       "      <th>accuracy_score</th>\n",
       "    </tr>\n",
       "  </thead>\n",
       "  <tbody>\n",
       "    <tr>\n",
       "      <th>0</th>\n",
       "      <td>DTC without SMOTE</td>\n",
       "      <td>0.822581</td>\n",
       "      <td>0.831522</td>\n",
       "      <td>0.827027</td>\n",
       "      <td>0.934426</td>\n",
       "    </tr>\n",
       "    <tr>\n",
       "      <th>1</th>\n",
       "      <td>RFC without SMOTE</td>\n",
       "      <td>0.978261</td>\n",
       "      <td>0.733696</td>\n",
       "      <td>0.838509</td>\n",
       "      <td>0.946721</td>\n",
       "    </tr>\n",
       "    <tr>\n",
       "      <th>2</th>\n",
       "      <td>ETC without SMOTE</td>\n",
       "      <td>0.980263</td>\n",
       "      <td>0.809783</td>\n",
       "      <td>0.886905</td>\n",
       "      <td>0.961066</td>\n",
       "    </tr>\n",
       "  </tbody>\n",
       "</table>\n",
       "</div>"
      ],
      "text/plain": [
       "              Method  precision_score  recall_score  f1_score  accuracy_score\n",
       "0  DTC without SMOTE         0.822581      0.831522  0.827027        0.934426\n",
       "1  RFC without SMOTE         0.978261      0.733696  0.838509        0.946721\n",
       "2  ETC without SMOTE         0.980263      0.809783  0.886905        0.961066"
      ]
     },
     "execution_count": 158,
     "metadata": {},
     "output_type": "execute_result"
    }
   ],
   "source": [
    "list_models_metrics(['DTC without SMOTE', 'RFC without SMOTE', 'ETC without SMOTE'], \n",
    "                    [grid_14.best_estimator_, grid_15.best_estimator_,grid_16.best_estimator_])"
   ]
  },
  {
   "cell_type": "markdown",
   "metadata": {},
   "source": [
    "# CONCLUSION <a class=\"anchor\" id=\"26-bullet\"></a>"
   ]
  },
  {
   "cell_type": "markdown",
   "metadata": {},
   "source": [
    "### Recommendations related to the target group <a class=\"anchor\" id=\"27-bullet\"></a>\n",
    "It’s highly possible to reduce the company’s  marketing spends by approaching a more curated target group with higher conversion probability with following demographic features:\n",
    "- Single women and men\n",
    "- Aged between 25 and 35\n",
    "- Earning about 17k or between 20k and 23k a month\n",
    "- Leaving in cities from tier 2 and tier 3\n",
    "- Working in Large Business as an Executive or Senior Manager "
   ]
  },
  {
   "cell_type": "markdown",
   "metadata": {},
   "source": [
    "### Comparision of the best algorithms and their metrics <a class=\"anchor\" id=\"28-bullet\"></a>"
   ]
  },
  {
   "cell_type": "code",
   "execution_count": 159,
   "metadata": {},
   "outputs": [
    {
     "name": "stdout",
     "output_type": "stream",
     "text": [
      "SVM EBF\n",
      "precision_score: 0.4144144144144144\n",
      "recall_score: 0.75\n",
      "f1_score: 0.5338491295938105\n",
      "accuracy_score: 0.7530737704918032\n",
      "SVM linear\n",
      "precision_score: 0.40988372093023256\n",
      "recall_score: 0.7663043478260869\n",
      "f1_score: 0.5340909090909091\n",
      "accuracy_score: 0.7479508196721312\n",
      "DTC\n",
      "precision_score: 0.7244897959183674\n",
      "recall_score: 0.7717391304347826\n",
      "f1_score: 0.7473684210526316\n",
      "accuracy_score: 0.9016393442622951\n",
      "RFC\n",
      "precision_score: 0.9166666666666666\n",
      "recall_score: 0.717391304347826\n",
      "f1_score: 0.8048780487804877\n",
      "accuracy_score: 0.9344262295081968\n",
      "ETC\n",
      "precision_score: 0.9567901234567902\n",
      "recall_score: 0.842391304347826\n",
      "f1_score: 0.8959537572254336\n",
      "accuracy_score: 0.9631147540983607\n",
      "SVM EBF WITH DR\n",
      "precision_score: 0.4212121212121212\n",
      "recall_score: 0.7554347826086957\n",
      "f1_score: 0.5408560311284046\n",
      "accuracy_score: 0.7581967213114754\n",
      "SVM linear WITH DR\n",
      "precision_score: 0.3976945244956772\n",
      "recall_score: 0.75\n",
      "f1_score: 0.5197740112994351\n",
      "accuracy_score: 0.7387295081967213\n",
      "DTC WITH DR\n",
      "precision_score: 0.7295918367346939\n",
      "recall_score: 0.7771739130434783\n",
      "f1_score: 0.7526315789473684\n",
      "accuracy_score: 0.9036885245901639\n",
      "RFC WITH DR\n",
      "precision_score: 0.8958333333333334\n",
      "recall_score: 0.7010869565217391\n",
      "f1_score: 0.7865853658536586\n",
      "accuracy_score: 0.9282786885245902\n",
      "ETC WITH DR\n",
      "precision_score: 0.9634146341463414\n",
      "recall_score: 0.8586956521739131\n",
      "f1_score: 0.9080459770114943\n",
      "accuracy_score: 0.9672131147540983\n",
      "DTC without SC\n",
      "precision_score: 0.7828282828282829\n",
      "recall_score: 0.842391304347826\n",
      "f1_score: 0.8115183246073299\n",
      "accuracy_score: 0.9262295081967213\n",
      "RFC without SC\n",
      "precision_score: 0.9435483870967742\n",
      "recall_score: 0.6358695652173914\n",
      "f1_score: 0.7597402597402597\n",
      "accuracy_score: 0.9241803278688525\n",
      "ETC without SC\n",
      "precision_score: 0.961038961038961\n",
      "recall_score: 0.8043478260869565\n",
      "f1_score: 0.8757396449704141\n",
      "accuracy_score: 0.9569672131147541\n",
      "DTC without SMOTE\n",
      "precision_score: 0.8225806451612904\n",
      "recall_score: 0.8315217391304348\n",
      "f1_score: 0.8270270270270271\n",
      "accuracy_score: 0.9344262295081968\n",
      "RFC without SMOTE\n",
      "precision_score: 0.9782608695652174\n",
      "recall_score: 0.7336956521739131\n",
      "f1_score: 0.8385093167701865\n",
      "accuracy_score: 0.9467213114754098\n",
      "ETC without SMOTE\n",
      "precision_score: 0.9802631578947368\n",
      "recall_score: 0.8097826086956522\n",
      "f1_score: 0.8869047619047619\n",
      "accuracy_score: 0.9610655737704918\n"
     ]
    }
   ],
   "source": [
    "final_comparision = list_models_metrics(['SVM EBF','SVM linear', 'DTC', 'RFC', 'ETC', \n",
    "                                         'SVM EBF WITH DR', 'SVM linear WITH DR','DTC WITH DR', 'RFC WITH DR', 'ETC WITH DR',\n",
    "                                         'DTC without SC', 'RFC without SC', 'ETC without SC',\n",
    "                                         'DTC without SMOTE', 'RFC without SMOTE', 'ETC without SMOTE'], \n",
    "                                        [grid_1.best_estimator_, grid_2.best_estimator_,grid_3.best_estimator_,\n",
    "                                         grid_4.best_estimator_, grid_5.best_estimator_,\n",
    "                                         grid_6.best_estimator_, grid_7.best_estimator_,grid_8.best_estimator_,\n",
    "                                         grid_9.best_estimator_, grid_10.best_estimator_,\n",
    "                                         grid_11.best_estimator_, grid_12.best_estimator_,grid_13.best_estimator_,\n",
    "                                         grid_14.best_estimator_, grid_15.best_estimator_,grid_16.best_estimator_,])"
   ]
  },
  {
   "cell_type": "code",
   "execution_count": 161,
   "metadata": {},
   "outputs": [
    {
     "data": {
      "text/html": [
       "<div>\n",
       "<style scoped>\n",
       "    .dataframe tbody tr th:only-of-type {\n",
       "        vertical-align: middle;\n",
       "    }\n",
       "\n",
       "    .dataframe tbody tr th {\n",
       "        vertical-align: top;\n",
       "    }\n",
       "\n",
       "    .dataframe thead th {\n",
       "        text-align: right;\n",
       "    }\n",
       "</style>\n",
       "<table border=\"1\" class=\"dataframe\">\n",
       "  <thead>\n",
       "    <tr style=\"text-align: right;\">\n",
       "      <th></th>\n",
       "      <th>Method</th>\n",
       "      <th>precision_score</th>\n",
       "      <th>recall_score</th>\n",
       "      <th>f1_score</th>\n",
       "      <th>accuracy_score</th>\n",
       "    </tr>\n",
       "  </thead>\n",
       "  <tbody>\n",
       "    <tr>\n",
       "      <th>9</th>\n",
       "      <td>ETC WITH DR</td>\n",
       "      <td>0.963415</td>\n",
       "      <td>0.858696</td>\n",
       "      <td>0.908046</td>\n",
       "      <td>0.967213</td>\n",
       "    </tr>\n",
       "    <tr>\n",
       "      <th>4</th>\n",
       "      <td>ETC</td>\n",
       "      <td>0.956790</td>\n",
       "      <td>0.842391</td>\n",
       "      <td>0.895954</td>\n",
       "      <td>0.963115</td>\n",
       "    </tr>\n",
       "    <tr>\n",
       "      <th>15</th>\n",
       "      <td>ETC without SMOTE</td>\n",
       "      <td>0.980263</td>\n",
       "      <td>0.809783</td>\n",
       "      <td>0.886905</td>\n",
       "      <td>0.961066</td>\n",
       "    </tr>\n",
       "    <tr>\n",
       "      <th>12</th>\n",
       "      <td>ETC without SC</td>\n",
       "      <td>0.961039</td>\n",
       "      <td>0.804348</td>\n",
       "      <td>0.875740</td>\n",
       "      <td>0.956967</td>\n",
       "    </tr>\n",
       "    <tr>\n",
       "      <th>14</th>\n",
       "      <td>RFC without SMOTE</td>\n",
       "      <td>0.978261</td>\n",
       "      <td>0.733696</td>\n",
       "      <td>0.838509</td>\n",
       "      <td>0.946721</td>\n",
       "    </tr>\n",
       "    <tr>\n",
       "      <th>13</th>\n",
       "      <td>DTC without SMOTE</td>\n",
       "      <td>0.822581</td>\n",
       "      <td>0.831522</td>\n",
       "      <td>0.827027</td>\n",
       "      <td>0.934426</td>\n",
       "    </tr>\n",
       "    <tr>\n",
       "      <th>10</th>\n",
       "      <td>DTC without SC</td>\n",
       "      <td>0.782828</td>\n",
       "      <td>0.842391</td>\n",
       "      <td>0.811518</td>\n",
       "      <td>0.926230</td>\n",
       "    </tr>\n",
       "    <tr>\n",
       "      <th>3</th>\n",
       "      <td>RFC</td>\n",
       "      <td>0.916667</td>\n",
       "      <td>0.717391</td>\n",
       "      <td>0.804878</td>\n",
       "      <td>0.934426</td>\n",
       "    </tr>\n",
       "    <tr>\n",
       "      <th>8</th>\n",
       "      <td>RFC WITH DR</td>\n",
       "      <td>0.895833</td>\n",
       "      <td>0.701087</td>\n",
       "      <td>0.786585</td>\n",
       "      <td>0.928279</td>\n",
       "    </tr>\n",
       "    <tr>\n",
       "      <th>11</th>\n",
       "      <td>RFC without SC</td>\n",
       "      <td>0.943548</td>\n",
       "      <td>0.635870</td>\n",
       "      <td>0.759740</td>\n",
       "      <td>0.924180</td>\n",
       "    </tr>\n",
       "    <tr>\n",
       "      <th>7</th>\n",
       "      <td>DTC WITH DR</td>\n",
       "      <td>0.729592</td>\n",
       "      <td>0.777174</td>\n",
       "      <td>0.752632</td>\n",
       "      <td>0.903689</td>\n",
       "    </tr>\n",
       "    <tr>\n",
       "      <th>2</th>\n",
       "      <td>DTC</td>\n",
       "      <td>0.724490</td>\n",
       "      <td>0.771739</td>\n",
       "      <td>0.747368</td>\n",
       "      <td>0.901639</td>\n",
       "    </tr>\n",
       "    <tr>\n",
       "      <th>5</th>\n",
       "      <td>SVM EBF WITH DR</td>\n",
       "      <td>0.421212</td>\n",
       "      <td>0.755435</td>\n",
       "      <td>0.540856</td>\n",
       "      <td>0.758197</td>\n",
       "    </tr>\n",
       "    <tr>\n",
       "      <th>1</th>\n",
       "      <td>SVM linear</td>\n",
       "      <td>0.409884</td>\n",
       "      <td>0.766304</td>\n",
       "      <td>0.534091</td>\n",
       "      <td>0.747951</td>\n",
       "    </tr>\n",
       "    <tr>\n",
       "      <th>0</th>\n",
       "      <td>SVM EBF</td>\n",
       "      <td>0.414414</td>\n",
       "      <td>0.750000</td>\n",
       "      <td>0.533849</td>\n",
       "      <td>0.753074</td>\n",
       "    </tr>\n",
       "    <tr>\n",
       "      <th>6</th>\n",
       "      <td>SVM linear WITH DR</td>\n",
       "      <td>0.397695</td>\n",
       "      <td>0.750000</td>\n",
       "      <td>0.519774</td>\n",
       "      <td>0.738730</td>\n",
       "    </tr>\n",
       "  </tbody>\n",
       "</table>\n",
       "</div>"
      ],
      "text/plain": [
       "                Method  precision_score  recall_score  f1_score  \\\n",
       "9          ETC WITH DR         0.963415      0.858696  0.908046   \n",
       "4                  ETC         0.956790      0.842391  0.895954   \n",
       "15   ETC without SMOTE         0.980263      0.809783  0.886905   \n",
       "12      ETC without SC         0.961039      0.804348  0.875740   \n",
       "14   RFC without SMOTE         0.978261      0.733696  0.838509   \n",
       "13   DTC without SMOTE         0.822581      0.831522  0.827027   \n",
       "10      DTC without SC         0.782828      0.842391  0.811518   \n",
       "3                  RFC         0.916667      0.717391  0.804878   \n",
       "8          RFC WITH DR         0.895833      0.701087  0.786585   \n",
       "11      RFC without SC         0.943548      0.635870  0.759740   \n",
       "7          DTC WITH DR         0.729592      0.777174  0.752632   \n",
       "2                  DTC         0.724490      0.771739  0.747368   \n",
       "5      SVM EBF WITH DR         0.421212      0.755435  0.540856   \n",
       "1           SVM linear         0.409884      0.766304  0.534091   \n",
       "0              SVM EBF         0.414414      0.750000  0.533849   \n",
       "6   SVM linear WITH DR         0.397695      0.750000  0.519774   \n",
       "\n",
       "    accuracy_score  \n",
       "9         0.967213  \n",
       "4         0.963115  \n",
       "15        0.961066  \n",
       "12        0.956967  \n",
       "14        0.946721  \n",
       "13        0.934426  \n",
       "10        0.926230  \n",
       "3         0.934426  \n",
       "8         0.928279  \n",
       "11        0.924180  \n",
       "7         0.903689  \n",
       "2         0.901639  \n",
       "5         0.758197  \n",
       "1         0.747951  \n",
       "0         0.753074  \n",
       "6         0.738730  "
      ]
     },
     "execution_count": 161,
     "metadata": {},
     "output_type": "execute_result"
    }
   ],
   "source": [
    "final_comparision.sort_values(['f1_score'], ascending=False)"
   ]
  },
  {
   "cell_type": "markdown",
   "metadata": {},
   "source": [
    "### Takeaways from the models <a class=\"anchor\" id=\"29-bullet\"></a>\n",
    "Being able to predict the target group, who is going to convert would prove to be beneficial for the company because it would mean to approach the customers with the highest probability of conversion. Looking at the tested algorithms I can say that it is possible to predict a customer buying behavior with nearly 97% of accuracy,  96% of precision and 85% of sensitivity. Obviously precision score and recall score are more important for this exercise because the first one answers the question how many customers labeled as ‘ProdTaken’  actually purchased the package and the second one - of all the customers that truly purchased the package - how many the algorithm labeled as 'ProdTaken'. \n",
    "\n",
    "It would be however difficult to provide a recommendation or to build an algorithm to predict the purchase of a product with some predefined features because there are limitations in the data. For future improvement of recommendations and algorithms the additional data could be collected. Possible features to add in the future are: customers’ preferences, no of trips a year, type of holidays."
   ]
  }
 ],
 "metadata": {
  "kernelspec": {
   "display_name": "Python 3",
   "language": "python",
   "name": "python3"
  },
  "language_info": {
   "codemirror_mode": {
    "name": "ipython",
    "version": 3
   },
   "file_extension": ".py",
   "mimetype": "text/x-python",
   "name": "python",
   "nbconvert_exporter": "python",
   "pygments_lexer": "ipython3",
   "version": "3.8.5"
  }
 },
 "nbformat": 4,
 "nbformat_minor": 4
}
